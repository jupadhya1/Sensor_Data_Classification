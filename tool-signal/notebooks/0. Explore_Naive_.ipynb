{
 "cells": [
  {
   "cell_type": "code",
   "execution_count": 24,
   "metadata": {},
   "outputs": [],
   "source": [
    "import pandas as pd\n",
    "import numpy as np\n",
    "from collections import Counter, OrderedDict\n",
    "from tqdm import tqdm\n",
    "from sklearn.model_selection import train_test_split\n",
    "from sklearn.metrics import classification_report, confusion_matrix"
   ]
  },
  {
   "cell_type": "code",
   "execution_count": 2,
   "metadata": {},
   "outputs": [],
   "source": [
    "A = pd.read_csv(\"../assets/data/data_A.csv\", header=None)\n",
    "B = pd.read_csv(\"../assets/data/data_B.csv\", header=None)\n",
    "C = pd.read_csv(\"../assets/data/data_C.csv\", header=None)\n",
    "D = pd.read_csv(\"../assets/data/data_D.csv\", header=None)\n",
    "E = pd.read_csv(\"../assets/data/data_E.csv\", header=None)"
   ]
  },
  {
   "cell_type": "code",
   "execution_count": 3,
   "metadata": {},
   "outputs": [
    {
     "data": {
      "text/plain": [
       "18000"
      ]
     },
     "execution_count": 3,
     "metadata": {},
     "output_type": "execute_result"
    }
   ],
   "source": [
    "data = pd.concat([A,B,C,D,E], axis=0).reset_index().drop('index', axis=1)\n",
    "Y = [0]*A.__len__() + [1]*B.__len__() + [2]*C.__len__() + [3]*D.__len__() + [4]*E.__len__()\n",
    "Y.__len__()"
   ]
  },
  {
   "cell_type": "code",
   "execution_count": 4,
   "metadata": {},
   "outputs": [
    {
     "data": {
      "text/html": [
       "<div>\n",
       "<style scoped>\n",
       "    .dataframe tbody tr th:only-of-type {\n",
       "        vertical-align: middle;\n",
       "    }\n",
       "\n",
       "    .dataframe tbody tr th {\n",
       "        vertical-align: top;\n",
       "    }\n",
       "\n",
       "    .dataframe thead th {\n",
       "        text-align: right;\n",
       "    }\n",
       "</style>\n",
       "<table border=\"1\" class=\"dataframe\">\n",
       "  <thead>\n",
       "    <tr style=\"text-align: right;\">\n",
       "      <th></th>\n",
       "      <th>0</th>\n",
       "      <th>1</th>\n",
       "      <th>2</th>\n",
       "      <th>3</th>\n",
       "      <th>4</th>\n",
       "      <th>5</th>\n",
       "      <th>6</th>\n",
       "      <th>7</th>\n",
       "      <th>8</th>\n",
       "      <th>9</th>\n",
       "      <th>...</th>\n",
       "      <th>14</th>\n",
       "      <th>15</th>\n",
       "      <th>16</th>\n",
       "      <th>17</th>\n",
       "      <th>18</th>\n",
       "      <th>19</th>\n",
       "      <th>20</th>\n",
       "      <th>21</th>\n",
       "      <th>22</th>\n",
       "      <th>23</th>\n",
       "    </tr>\n",
       "  </thead>\n",
       "  <tbody>\n",
       "    <tr>\n",
       "      <td>0</td>\n",
       "      <td>0.944581</td>\n",
       "      <td>0.073470</td>\n",
       "      <td>0.595152</td>\n",
       "      <td>0.031151</td>\n",
       "      <td>0.665257</td>\n",
       "      <td>0.637385</td>\n",
       "      <td>0.862465</td>\n",
       "      <td>0.941638</td>\n",
       "      <td>0.445627</td>\n",
       "      <td>0.669958</td>\n",
       "      <td>...</td>\n",
       "      <td>0.291457</td>\n",
       "      <td>0.957417</td>\n",
       "      <td>0.405958</td>\n",
       "      <td>0.946556</td>\n",
       "      <td>0.857191</td>\n",
       "      <td>0.688928</td>\n",
       "      <td>0.003288</td>\n",
       "      <td>0.900103</td>\n",
       "      <td>0.919865</td>\n",
       "      <td>0.005909</td>\n",
       "    </tr>\n",
       "    <tr>\n",
       "      <td>1</td>\n",
       "      <td>0.526433</td>\n",
       "      <td>0.241855</td>\n",
       "      <td>0.456214</td>\n",
       "      <td>0.116482</td>\n",
       "      <td>0.599807</td>\n",
       "      <td>0.836635</td>\n",
       "      <td>0.912332</td>\n",
       "      <td>0.950627</td>\n",
       "      <td>0.581529</td>\n",
       "      <td>0.514690</td>\n",
       "      <td>...</td>\n",
       "      <td>0.154393</td>\n",
       "      <td>0.566702</td>\n",
       "      <td>0.509103</td>\n",
       "      <td>0.453779</td>\n",
       "      <td>0.991011</td>\n",
       "      <td>0.900147</td>\n",
       "      <td>0.151426</td>\n",
       "      <td>0.607675</td>\n",
       "      <td>0.478204</td>\n",
       "      <td>0.828624</td>\n",
       "    </tr>\n",
       "    <tr>\n",
       "      <td>2</td>\n",
       "      <td>0.362481</td>\n",
       "      <td>0.397287</td>\n",
       "      <td>0.294460</td>\n",
       "      <td>0.614796</td>\n",
       "      <td>0.176636</td>\n",
       "      <td>0.208382</td>\n",
       "      <td>0.216288</td>\n",
       "      <td>0.561427</td>\n",
       "      <td>0.103087</td>\n",
       "      <td>0.311326</td>\n",
       "      <td>...</td>\n",
       "      <td>0.115245</td>\n",
       "      <td>0.447862</td>\n",
       "      <td>0.526769</td>\n",
       "      <td>0.896337</td>\n",
       "      <td>0.920253</td>\n",
       "      <td>0.053284</td>\n",
       "      <td>0.909701</td>\n",
       "      <td>0.689073</td>\n",
       "      <td>0.574441</td>\n",
       "      <td>0.918327</td>\n",
       "    </tr>\n",
       "    <tr>\n",
       "      <td>3</td>\n",
       "      <td>0.672451</td>\n",
       "      <td>0.825486</td>\n",
       "      <td>0.816008</td>\n",
       "      <td>0.560363</td>\n",
       "      <td>0.559690</td>\n",
       "      <td>0.858013</td>\n",
       "      <td>0.205535</td>\n",
       "      <td>0.715741</td>\n",
       "      <td>0.815872</td>\n",
       "      <td>0.119277</td>\n",
       "      <td>...</td>\n",
       "      <td>0.938751</td>\n",
       "      <td>0.947538</td>\n",
       "      <td>0.586773</td>\n",
       "      <td>0.813136</td>\n",
       "      <td>0.251255</td>\n",
       "      <td>0.641132</td>\n",
       "      <td>0.165780</td>\n",
       "      <td>0.253323</td>\n",
       "      <td>0.931356</td>\n",
       "      <td>0.897332</td>\n",
       "    </tr>\n",
       "    <tr>\n",
       "      <td>4</td>\n",
       "      <td>0.867482</td>\n",
       "      <td>0.259081</td>\n",
       "      <td>0.329302</td>\n",
       "      <td>0.554069</td>\n",
       "      <td>0.601874</td>\n",
       "      <td>0.470497</td>\n",
       "      <td>0.791504</td>\n",
       "      <td>0.541178</td>\n",
       "      <td>0.662337</td>\n",
       "      <td>0.078658</td>\n",
       "      <td>...</td>\n",
       "      <td>0.256620</td>\n",
       "      <td>0.999742</td>\n",
       "      <td>0.859287</td>\n",
       "      <td>0.475762</td>\n",
       "      <td>0.998712</td>\n",
       "      <td>0.403417</td>\n",
       "      <td>0.434930</td>\n",
       "      <td>0.688447</td>\n",
       "      <td>0.264142</td>\n",
       "      <td>0.441126</td>\n",
       "    </tr>\n",
       "  </tbody>\n",
       "</table>\n",
       "<p>5 rows × 24 columns</p>\n",
       "</div>"
      ],
      "text/plain": [
       "         0         1         2         3         4         5         6   \\\n",
       "0  0.944581  0.073470  0.595152  0.031151  0.665257  0.637385  0.862465   \n",
       "1  0.526433  0.241855  0.456214  0.116482  0.599807  0.836635  0.912332   \n",
       "2  0.362481  0.397287  0.294460  0.614796  0.176636  0.208382  0.216288   \n",
       "3  0.672451  0.825486  0.816008  0.560363  0.559690  0.858013  0.205535   \n",
       "4  0.867482  0.259081  0.329302  0.554069  0.601874  0.470497  0.791504   \n",
       "\n",
       "         7         8         9   ...        14        15        16        17  \\\n",
       "0  0.941638  0.445627  0.669958  ...  0.291457  0.957417  0.405958  0.946556   \n",
       "1  0.950627  0.581529  0.514690  ...  0.154393  0.566702  0.509103  0.453779   \n",
       "2  0.561427  0.103087  0.311326  ...  0.115245  0.447862  0.526769  0.896337   \n",
       "3  0.715741  0.815872  0.119277  ...  0.938751  0.947538  0.586773  0.813136   \n",
       "4  0.541178  0.662337  0.078658  ...  0.256620  0.999742  0.859287  0.475762   \n",
       "\n",
       "         18        19        20        21        22        23  \n",
       "0  0.857191  0.688928  0.003288  0.900103  0.919865  0.005909  \n",
       "1  0.991011  0.900147  0.151426  0.607675  0.478204  0.828624  \n",
       "2  0.920253  0.053284  0.909701  0.689073  0.574441  0.918327  \n",
       "3  0.251255  0.641132  0.165780  0.253323  0.931356  0.897332  \n",
       "4  0.998712  0.403417  0.434930  0.688447  0.264142  0.441126  \n",
       "\n",
       "[5 rows x 24 columns]"
      ]
     },
     "execution_count": 4,
     "metadata": {},
     "output_type": "execute_result"
    }
   ],
   "source": [
    "A.head()"
   ]
  },
  {
   "cell_type": "markdown",
   "metadata": {},
   "source": [
    "## Check distribution of signal value for each timestamp for each tool"
   ]
  },
  {
   "cell_type": "code",
   "execution_count": 5,
   "metadata": {},
   "outputs": [
    {
     "name": "stdout",
     "output_type": "stream",
     "text": [
      "0: Mean: 0.5025964681498825 and Std: 0.2902587022827323\n",
      "1: Mean: 0.5085746308847962 and Std: 0.2887392666222625\n",
      "2: Mean: 0.5114946562000392 and Std: 0.2902455184681676\n",
      "3: Mean: 0.5137520414903997 and Std: 0.2864925165052686\n",
      "4: Mean: 0.5221034833156347 and Std: 0.28883676021802995\n",
      "5: Mean: 0.5228762810352664 and Std: 0.28829650187444134\n",
      "6: Mean: 0.5270778986933777 and Std: 0.2856581214323996\n",
      "7: Mean: 0.5270183830348746 and Std: 0.28672614095253873\n",
      "8: Mean: 0.5279824944380879 and Std: 0.2899841840375673\n",
      "9: Mean: 0.532977562843652 and Std: 0.28518432803378574\n",
      "10: Mean: 0.5374322380001959 and Std: 0.28625893144470166\n",
      "11: Mean: 0.5465282161246081 and Std: 0.28580586967655003\n",
      "12: Mean: 0.5438167393248433 and Std: 0.28543393344869794\n",
      "13: Mean: 0.5502900546201018 and Std: 0.2841836456640366\n",
      "14: Mean: 0.5516557479674765 and Std: 0.2856830930586056\n",
      "15: Mean: 0.5467370230985501 and Std: 0.28812178915419345\n",
      "16: Mean: 0.5579806419106583 and Std: 0.2807457813228525\n",
      "17: Mean: 0.5695508264465126 and Std: 0.2811624480367564\n",
      "18: Mean: 0.5695825255454545 and Std: 0.28147815514446173\n",
      "19: Mean: 0.5760065039265282 and Std: 0.27959246882269984\n",
      "20: Mean: 0.5628471634112461 and Std: 0.27999942460155836\n",
      "21: Mean: 0.570515612309757 and Std: 0.2759828598754936\n",
      "22: Mean: 0.5779436156528213 and Std: 0.27742220598557005\n",
      "23: Mean: 0.5841324714976489 and Std: 0.2771524568347139\n"
     ]
    }
   ],
   "source": [
    "distr_A = {}\n",
    "for idx in range(24):\n",
    "    signal = A.iloc[:,idx].values\n",
    "    print(f\"{idx}: Mean: {np.mean(signal)} and Std: {np.std(signal)}\")\n",
    "    distr_A[idx] = (np.mean(signal), np.std(signal))"
   ]
  },
  {
   "cell_type": "code",
   "execution_count": 6,
   "metadata": {},
   "outputs": [
    {
     "name": "stdout",
     "output_type": "stream",
     "text": [
      "0: Mean: 0.5034235366047746 and Std: 0.29197728227445324\n",
      "1: Mean: 0.5082137542921561 and Std: 0.2878537675891718\n",
      "2: Mean: 0.48908428120197034 and Std: 0.29221362969442954\n",
      "3: Mean: 0.5077695509124669 and Std: 0.28086441508672266\n",
      "4: Mean: 0.4987136986748768 and Std: 0.2881082569213527\n",
      "5: Mean: 0.5061950300128837 and Std: 0.2951605218811823\n",
      "6: Mean: 0.5123362297499053 and Std: 0.283844800407551\n",
      "7: Mean: 0.5073783535619554 and Std: 0.2904626473669558\n",
      "8: Mean: 0.503855797546798 and Std: 0.290036988910617\n",
      "9: Mean: 0.5092538906654035 and Std: 0.28959494608073094\n",
      "10: Mean: 0.5258310789352026 and Std: 0.289717444910802\n",
      "11: Mean: 0.5214013241845395 and Std: 0.2907496273547873\n",
      "12: Mean: 0.5255809047514209 and Std: 0.28484453932931564\n",
      "13: Mean: 0.5203845506290262 and Std: 0.28637759208965247\n",
      "14: Mean: 0.5242150645471769 and Std: 0.2882716257636771\n",
      "15: Mean: 0.5199546780083365 and Std: 0.28998839959183675\n",
      "16: Mean: 0.5225422036146268 and Std: 0.2771686041958546\n",
      "17: Mean: 0.522933600392194 and Std: 0.28097822332498085\n",
      "18: Mean: 0.5352680350356196 and Std: 0.28823666514948454\n",
      "19: Mean: 0.5345304322959454 and Std: 0.28282541266926914\n",
      "20: Mean: 0.5330369732220538 and Std: 0.28718813132007154\n",
      "21: Mean: 0.5420735023209549 and Std: 0.2897090574857062\n",
      "22: Mean: 0.5436300624452445 and Std: 0.2873876091182422\n",
      "23: Mean: 0.541001855906025 and Std: 0.2814680505802722\n"
     ]
    }
   ],
   "source": [
    "distr_B = {}\n",
    "for idx in range(24):\n",
    "    signal = B.iloc[:,idx].values\n",
    "    print(f\"{idx}: Mean: {np.mean(signal)} and Std: {np.std(signal)}\")\n",
    "    distr_B[idx] = (np.mean(signal), np.std(signal))"
   ]
  },
  {
   "cell_type": "code",
   "execution_count": 7,
   "metadata": {},
   "outputs": [
    {
     "name": "stdout",
     "output_type": "stream",
     "text": [
      "0: Mean: 0.48849711494186054 and Std: 0.2901848576735514\n",
      "1: Mean: 0.4974505645930233 and Std: 0.29356613041375273\n",
      "2: Mean: 0.4840250793807063 and Std: 0.28834922983736244\n",
      "3: Mean: 0.492498402086994 and Std: 0.2909581509377182\n",
      "4: Mean: 0.5031035547962963 and Std: 0.28950031284848055\n",
      "5: Mean: 0.5090416896093884 and Std: 0.28797002672745015\n",
      "6: Mean: 0.5016439589069768 and Std: 0.2888879510402921\n",
      "7: Mean: 0.49980414467097334 and Std: 0.2887132083328212\n",
      "8: Mean: 0.4880481830159346 and Std: 0.28425519251114234\n",
      "9: Mean: 0.5118264301864772 and Std: 0.287590253212707\n",
      "10: Mean: 0.4911321914599483 and Std: 0.29053882367841866\n",
      "11: Mean: 0.49952458681739875 and Std: 0.291229923269559\n",
      "12: Mean: 0.5054025957140396 and Std: 0.29356000861295256\n",
      "13: Mean: 0.5027890987368647 and Std: 0.2863659340028686\n",
      "14: Mean: 0.4936173099216193 and Std: 0.2893207477232978\n",
      "15: Mean: 0.4952441609651163 and Std: 0.28682849884007333\n",
      "16: Mean: 0.4905439209069768 and Std: 0.2795609157693484\n",
      "17: Mean: 0.4941995742911284 and Std: 0.28986545367771827\n",
      "18: Mean: 0.512854985254522 and Std: 0.2873213161058344\n",
      "19: Mean: 0.4964412314788974 and Std: 0.2850016243605952\n",
      "20: Mean: 0.5073568410572783 and Std: 0.2875979218185468\n",
      "21: Mean: 0.505361823133075 and Std: 0.288006244556473\n",
      "22: Mean: 0.5021692441537468 and Std: 0.2850084483314632\n",
      "23: Mean: 0.5021776785650302 and Std: 0.28968454721322306\n"
     ]
    }
   ],
   "source": [
    "distr_C = {}\n",
    "for idx in range(24):\n",
    "    signal = C.iloc[:,idx].values\n",
    "    print(f\"{idx}: Mean: {np.mean(signal)} and Std: {np.std(signal)}\")\n",
    "    distr_C[idx] = (np.mean(signal), np.std(signal))"
   ]
  },
  {
   "cell_type": "code",
   "execution_count": 8,
   "metadata": {},
   "outputs": [
    {
     "name": "stdout",
     "output_type": "stream",
     "text": [
      "0: Mean: 0.5002339113573844 and Std: 0.2908093351935116\n",
      "1: Mean: 0.5018149657373168 and Std: 0.2915497685268972\n",
      "2: Mean: 0.4898121082762119 and Std: 0.2884390854273117\n",
      "3: Mean: 0.4978901596798196 and Std: 0.2874117203299099\n",
      "4: Mean: 0.49230434793761746 and Std: 0.2867116244977272\n",
      "5: Mean: 0.49240419874257796 and Std: 0.2851371114328267\n",
      "6: Mean: 0.49076283098910184 and Std: 0.2908436402683718\n",
      "7: Mean: 0.4982383876486284 and Std: 0.2912654264714067\n",
      "8: Mean: 0.47555727698384065 and Std: 0.2907592904704774\n",
      "9: Mean: 0.4865374627846674 and Std: 0.2859719856156414\n",
      "10: Mean: 0.48092166874032316 and Std: 0.29141418941218633\n",
      "11: Mean: 0.48422505182487785 and Std: 0.28616425023633224\n",
      "12: Mean: 0.4808971230796693 and Std: 0.28972514079470835\n",
      "13: Mean: 0.48499367964787665 and Std: 0.2903960519104757\n",
      "14: Mean: 0.47651632998196164 and Std: 0.28500010751986593\n",
      "15: Mean: 0.47740672916384824 and Std: 0.28974713351178033\n",
      "16: Mean: 0.46346849435362647 and Std: 0.2841229451434594\n",
      "17: Mean: 0.47241772716459984 and Std: 0.28947241524268963\n",
      "18: Mean: 0.4688741004798948 and Std: 0.2868833731889869\n",
      "19: Mean: 0.47551857701615935 and Std: 0.2859662671182853\n",
      "20: Mean: 0.46670132272792186 and Std: 0.28965790136766345\n",
      "21: Mean: 0.4705885869184517 and Std: 0.28437809174262624\n",
      "22: Mean: 0.4598358029376174 and Std: 0.28594095062595454\n",
      "23: Mean: 0.45891634716910934 and Std: 0.28242060950853665\n"
     ]
    }
   ],
   "source": [
    "distr_D = {}\n",
    "for idx in range(24):\n",
    "    signal = D.iloc[:,idx].values\n",
    "    print(f\"{idx}: Mean: {np.mean(signal)} and Std: {np.std(signal)}\")\n",
    "    distr_D[idx] = (np.mean(signal), np.std(signal))"
   ]
  },
  {
   "cell_type": "code",
   "execution_count": 9,
   "metadata": {},
   "outputs": [
    {
     "name": "stdout",
     "output_type": "stream",
     "text": [
      "0: Mean: 0.4915175417956011 and Std: 0.28943285578429834\n",
      "1: Mean: 0.4968950822629883 and Std: 0.28919539675178063\n",
      "2: Mean: 0.4892313882887751 and Std: 0.2853111335749019\n",
      "3: Mean: 0.48138247823492614 and Std: 0.2862945498256753\n",
      "4: Mean: 0.4867929547700037 and Std: 0.28636562236669566\n",
      "5: Mean: 0.49058170251971933 and Std: 0.2882261884117892\n",
      "6: Mean: 0.4805407321245733 and Std: 0.2868318319909901\n",
      "7: Mean: 0.46911243097629884 and Std: 0.286025788292963\n",
      "8: Mean: 0.4730912093164581 and Std: 0.2857683443894855\n",
      "9: Mean: 0.46243615339874855 and Std: 0.2877400340958106\n",
      "10: Mean: 0.46178059321255216 and Std: 0.28656915676810274\n",
      "11: Mean: 0.4649612332119833 and Std: 0.2860278105929251\n",
      "12: Mean: 0.4611804478553281 and Std: 0.2875579944259108\n",
      "13: Mean: 0.4551184138257489 and Std: 0.2810610836743929\n",
      "14: Mean: 0.44641179965718614 and Std: 0.2827585658543393\n",
      "15: Mean: 0.44387849037713306 and Std: 0.28217671611150724\n",
      "16: Mean: 0.44637082463822525 and Std: 0.28714413018697993\n",
      "17: Mean: 0.4380789554876754 and Std: 0.2829818277162323\n",
      "18: Mean: 0.4297825022533182 and Std: 0.28178163674447254\n",
      "19: Mean: 0.4291095517512325 and Std: 0.28049845748535746\n",
      "20: Mean: 0.4264500049586652 and Std: 0.2772443765783632\n",
      "21: Mean: 0.4145487196109215 and Std: 0.2762909275271587\n",
      "22: Mean: 0.4194432273869928 and Std: 0.2764708332513947\n",
      "23: Mean: 0.41199863792775887 and Std: 0.27651787316190074\n"
     ]
    }
   ],
   "source": [
    "distr_E = {}\n",
    "for idx in range(24):\n",
    "    signal = E.iloc[:,idx].values\n",
    "    print(f\"{idx}: Mean: {np.mean(signal)} and Std: {np.std(signal)}\")\n",
    "    distr_E[idx] = (np.mean(signal), np.std(signal))"
   ]
  },
  {
   "cell_type": "markdown",
   "metadata": {},
   "source": [
    "<b><u> A simple generative model based on gaussian kernel: </u></b><br/>\n",
    "Use the means and dev to majority vote the tool for a sample signal"
   ]
  },
  {
   "cell_type": "code",
   "execution_count": 10,
   "metadata": {},
   "outputs": [],
   "source": [
    "distr = {0:distr_A,1:distr_B,2:distr_C,3:distr_D,4:distr_E}"
   ]
  },
  {
   "cell_type": "code",
   "execution_count": 11,
   "metadata": {},
   "outputs": [],
   "source": [
    "from sklearn.metrics.pairwise import rbf_kernel\n",
    "from scipy.stats import mode"
   ]
  },
  {
   "cell_type": "code",
   "execution_count": 13,
   "metadata": {},
   "outputs": [],
   "source": [
    "def gaussianVote(sample, distr):\n",
    "    vote = []\n",
    "    # For each timestamp\n",
    "    for t in range(24):\n",
    "        local_vote = []\n",
    "        # For each prior\n",
    "        vote.append(np.argmax([rbf_kernel([[sample[t]]], [[distr[key][t][0]]], distr[key][t][1]**(-2)) for key in distr]))\n",
    "    return ['A','B','C','D','E'][mode(vote)[0][0]], vote"
   ]
  },
  {
   "cell_type": "code",
   "execution_count": 14,
   "metadata": {},
   "outputs": [],
   "source": [
    "def predictSample(dataset, distr):\n",
    "    idx = np.random.randint(low = 0, high = dataset.__len__() - 1, size = 1)[0]\n",
    "    tool, vote = gaussianVote(dataset[idx], distr)\n",
    "    return vote"
   ]
  },
  {
   "cell_type": "markdown",
   "metadata": {},
   "source": [
    "## Indices of clarity"
   ]
  },
  {
   "cell_type": "markdown",
   "metadata": {},
   "source": [
    "<b> Return the most prominently-differentiable-common-timestamps for each tool using <u>bootstrap sampling</u></b>"
   ]
  },
  {
   "cell_type": "code",
   "execution_count": 16,
   "metadata": {},
   "outputs": [],
   "source": [
    "dataS = {0:A,1:B,2:C,3:D,4:E}"
   ]
  },
  {
   "cell_type": "code",
   "execution_count": 17,
   "metadata": {},
   "outputs": [],
   "source": [
    "def indicesOfClarity(idx, dataS, distr, size=None):\n",
    "    if not size:\n",
    "        size = dataS[idx].__len__()\n",
    "    indices = []\n",
    "    for _ in range(size):\n",
    "        votes = predictSample(dataS[idx].values, distr)\n",
    "        for _ in range(votes.count(idx)):\n",
    "            indices.append(votes.index(idx))\n",
    "            votes[votes.index(idx)] = 24\n",
    "    return indices"
   ]
  },
  {
   "cell_type": "code",
   "execution_count": 18,
   "metadata": {},
   "outputs": [
    {
     "name": "stderr",
     "output_type": "stream",
     "text": [
      "100%|████████████████████████████████████████████████████████████████████████████████████| 5/5 [06:28<00:00, 77.80s/it]\n"
     ]
    }
   ],
   "source": [
    "indices = {}\n",
    "for idx in tqdm(range(5)):\n",
    "    dic = Counter(indicesOfClarity(idx, dataS, distr))\n",
    "    indices[idx] = sorted(dic, key=lambda k: dic[k], reverse=True)[:10]"
   ]
  },
  {
   "cell_type": "code",
   "execution_count": 19,
   "metadata": {},
   "outputs": [
    {
     "data": {
      "text/plain": [
       "{0: [23, 19, 18, 17, 14, 11, 22, 16, 7, 21],\n",
       " 1: [0, 2, 16, 23, 17, 19, 22, 13, 18, 21],\n",
       " 2: [0, 1, 2, 23, 20, 22, 16, 18, 21, 14],\n",
       " 3: [8, 23, 18, 21, 20, 22, 17, 9, 19, 15],\n",
       " 4: [20, 22, 23, 21, 19, 15, 17, 9, 16, 18]}"
      ]
     },
     "execution_count": 19,
     "metadata": {},
     "output_type": "execute_result"
    }
   ],
   "source": [
    "indices"
   ]
  },
  {
   "cell_type": "code",
   "execution_count": 20,
   "metadata": {},
   "outputs": [],
   "source": [
    "def predictClearerSample(X, distr, indices, threshold=10):\n",
    "    predicted = []\n",
    "    for sample in X:\n",
    "        tool, vote = gaussianVote(sample, distr)\n",
    "        clarity = [0]*indices.__len__()\n",
    "        for tool in indices.keys():\n",
    "            for idxx in indices[tool][:threshold]:\n",
    "                if vote[idxx] == tool:\n",
    "                    clarity[tool] += 1\n",
    "        predicted.append(np.argmax(clarity))\n",
    "    return predicted"
   ]
  },
  {
   "cell_type": "markdown",
   "metadata": {},
   "source": [
    "## Lets check how well these perform"
   ]
  },
  {
   "cell_type": "code",
   "execution_count": 25,
   "metadata": {},
   "outputs": [
    {
     "name": "stdout",
     "output_type": "stream",
     "text": [
      "              precision    recall  f1-score   support\n",
      "\n",
      "           0       0.42      0.83      0.56       514\n",
      "           1       0.11      0.01      0.03       279\n",
      "           2       0.17      0.13      0.14       214\n",
      "           3       0.12      0.00      0.01       276\n",
      "           4       0.51      0.58      0.54       517\n",
      "\n",
      "    accuracy                           0.42      1800\n",
      "   macro avg       0.27      0.31      0.26      1800\n",
      "weighted avg       0.32      0.42      0.34      1800\n",
      "\n"
     ]
    }
   ],
   "source": [
    "_, X_test, _, y_test = train_test_split(data, Y, test_size=0.1)\n",
    "predicted = predictClearerSample(X_test.values, distr, indices, 5)\n",
    "print(classification_report(y_test, predicted))"
   ]
  },
  {
   "cell_type": "code",
   "execution_count": 26,
   "metadata": {},
   "outputs": [
    {
     "name": "stdout",
     "output_type": "stream",
     "text": [
      "[[425   6  29   1  53]\n",
      " [196   4  14   1  64]\n",
      " [129   3  27   1  54]\n",
      " [117   8  36   1 114]\n",
      " [145  15  53   4 300]]\n"
     ]
    }
   ],
   "source": [
    "print(confusion_matrix(y_test, predicted))"
   ]
  }
 ],
 "metadata": {
  "kernelspec": {
   "display_name": "Python 3",
   "language": "python",
   "name": "python3"
  },
  "language_info": {
   "codemirror_mode": {
    "name": "ipython",
    "version": 3
   },
   "file_extension": ".py",
   "mimetype": "text/x-python",
   "name": "python",
   "nbconvert_exporter": "python",
   "pygments_lexer": "ipython3",
   "version": "3.7.4"
  }
 },
 "nbformat": 4,
 "nbformat_minor": 2
}
