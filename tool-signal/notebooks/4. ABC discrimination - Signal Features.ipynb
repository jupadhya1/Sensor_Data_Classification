{
 "cells": [
  {
   "cell_type": "code",
   "execution_count": 42,
   "metadata": {},
   "outputs": [],
   "source": [
    "import pandas as pd\n",
    "import numpy as np\n",
    "import scipy.signal as sig\n",
    "import matplotlib.pyplot as plt\n",
    "from tensorflow.keras.utils import to_categorical\n",
    "import tensorflow as tf\n",
    "from sklearn.model_selection import train_test_split\n",
    "from sklearn.metrics import confusion_matrix, classification_report, accuracy_score\n",
    "from imblearn.under_sampling import RandomUnderSampler"
   ]
  },
  {
   "cell_type": "code",
   "execution_count": 2,
   "metadata": {},
   "outputs": [],
   "source": [
    "A = pd.read_csv(\"../assets/data/cleaned/A.csv\", index_col=0)\n",
    "B = pd.read_csv(\"../assets/data/cleaned/B.csv\", index_col=0)\n",
    "C = pd.read_csv(\"../assets/data/cleaned/C.csv\", index_col=0)"
   ]
  },
  {
   "cell_type": "code",
   "execution_count": 3,
   "metadata": {},
   "outputs": [
    {
     "data": {
      "text/plain": [
       "((1111, 24), (1334, 24), (1220, 24))"
      ]
     },
     "execution_count": 3,
     "metadata": {},
     "output_type": "execute_result"
    }
   ],
   "source": [
    "B.shape, C.shape, A.shape"
   ]
  },
  {
   "cell_type": "code",
   "execution_count": 4,
   "metadata": {},
   "outputs": [],
   "source": [
    "def stat_summary(X, iqrl=0.25, iqrr=0.75):\n",
    "    '''\n",
    "    Return for each timestamp (hr) return min, max, 0.25 quantile, 0.75 quantile, mean, var\n",
    "    '''\n",
    "    return pd.DataFrame(np.array([np.min(X, axis=0), np.quantile(X, axis=0, q=iqrl), np.median(X, axis=0), \n",
    "          np.quantile(X, axis=0, q=iqrr), np.max(X, axis=0), np.mean(X, axis=0), np.var(X, axis=0), np.std(X, axis=0)]).transpose(),\n",
    "                        columns=[\"Min\", \"0.25Q\", \"Med\", \"0.75Q\", \"Max\", \"Mean\", \"Var\", \"StD\"])\n",
    "\n",
    "def trend(X, span = None):\n",
    "    '''\n",
    "    Return EWMA trend for signal samples\n",
    "    '''\n",
    "    if not span:\n",
    "        span = X.shape[1]\n",
    "    return pd.DataFrame(X).apply(lambda x: x.ewm(span=span).mean(), axis=1)\n",
    "\n",
    "def train_test_val_split(X, y=None, test_size=0.2,  val_size=0.4):\n",
    "    from sklearn.model_selection import train_test_split\n",
    "    if y.__len__() > 0:\n",
    "        X_train, X_test, y_train, y_test = train_test_split(X, y, test_size=test_size)\n",
    "        X_test, X_val, y_test, y_val = train_test_split(X_test, y_test, test_size=val_size)\n",
    "        return X_train, X_test, X_val, y_train, y_test, y_val\n",
    "    else:\n",
    "        X_train, X_test = train_test_split(X, test_size=test_size)\n",
    "        X_test, X_val = train_test_split(X_test, test_size=val_size)\n",
    "        return X_train, X_test, X_val\n",
    "\n",
    "def reshapeInput(X):\n",
    "    X_ = []\n",
    "    for x in X:\n",
    "        X_.append(x.reshape(-1,1))\n",
    "    return np.array(X_)\n",
    "\n",
    "def shapeInput(X):\n",
    "    X_ = []\n",
    "    for x in X:\n",
    "        X_.append(x.reshape(1,-1)[0])\n",
    "    return np.array(X_)\n",
    "\n",
    "\n",
    "def meanShift(X, window=None):\n",
    "    '''\n",
    "    Apply MA on convolved signal and compute rs means\n",
    "    '''\n",
    "    # At this point X must be EWMA convolved already\n",
    "    if not window:\n",
    "        window = X.shape[1] // 2\n",
    "    return pd.DataFrame(X).apply(lambda x: x.rolling(window=window).mean(), axis=1).iloc[:,window-1:]\n",
    "\n",
    "def gradient(X, shift=1, threshold=0):\n",
    "    '''\n",
    "    First order gradient of signal. Eq to diff for discrete signal\n",
    "    '''\n",
    "    return pd.DataFrame(X).apply(lambda x: x.diff(periods=shift), axis=1).iloc[:,threshold:]\n",
    "\n",
    "def bucketPeaks(peakIndex):\n",
    "    '''\n",
    "    Bucket into first half and second half\n",
    "    '''\n",
    "    return(sum(peakIndex <= 12), sum(peakIndex > 12)) "
   ]
  },
  {
   "cell_type": "code",
   "execution_count": 80,
   "metadata": {},
   "outputs": [],
   "source": [
    "X = np.row_stack((A,B,C))\n",
    "Y = [0]*(A.__len__()) + [1]*(B.__len__()) + [2]*C.__len__()"
   ]
  },
  {
   "cell_type": "code",
   "execution_count": 93,
   "metadata": {},
   "outputs": [],
   "source": [
    "X_train, X_test, X_val, y_train, y_test, y_val = train_test_val_split(X, to_categorical(Y), test_size=0.2)"
   ]
  },
  {
   "cell_type": "code",
   "execution_count": 94,
   "metadata": {},
   "outputs": [
    {
     "name": "stderr",
     "output_type": "stream",
     "text": [
      "C:\\Users\\sabri\\Anaconda3\\lib\\site-packages\\sklearn\\utils\\validation.py:72: FutureWarning: Pass classes=[0 1 2] as keyword args. From version 1.0 (renaming of 0.25) passing these as positional arguments will result in an error\n",
      "  \"will result in an error\", FutureWarning)\n"
     ]
    }
   ],
   "source": [
    "X_train, y_train = RandomUnderSampler().fit_resample(X_train, y_train)"
   ]
  },
  {
   "cell_type": "code",
   "execution_count": 95,
   "metadata": {},
   "outputs": [
    {
     "data": {
      "text/plain": [
       "array([886, 886, 886])"
      ]
     },
     "execution_count": 95,
     "metadata": {},
     "output_type": "execute_result"
    }
   ],
   "source": [
    "np.sum(y_train, axis=0)"
   ]
  },
  {
   "cell_type": "code",
   "execution_count": 97,
   "metadata": {},
   "outputs": [
    {
     "data": {
      "text/plain": [
       "RandomForestClassifier(random_state=42)"
      ]
     },
     "execution_count": 97,
     "metadata": {},
     "output_type": "execute_result"
    }
   ],
   "source": [
    "from sklearn.ensemble import RandomForestClassifier\n",
    "rf = RandomForestClassifier(n_estimators=100, random_state=42)\n",
    "rf.fit(X_train, np.argmax(y_train, axis=1))"
   ]
  },
  {
   "cell_type": "code",
   "execution_count": 98,
   "metadata": {},
   "outputs": [
    {
     "data": {
      "text/plain": [
       "array([[ 89,  38,  11],\n",
       "       [ 51,  65,  22],\n",
       "       [ 19,  25, 119]], dtype=int64)"
      ]
     },
     "execution_count": 98,
     "metadata": {},
     "output_type": "execute_result"
    }
   ],
   "source": [
    "confusion_matrix(np.argmax(y_test, axis=1),rf.predict(X_test))"
   ]
  },
  {
   "cell_type": "code",
   "execution_count": 99,
   "metadata": {},
   "outputs": [
    {
     "name": "stdout",
     "output_type": "stream",
     "text": [
      "              precision    recall  f1-score   support\n",
      "\n",
      "           0       0.56      0.64      0.60       138\n",
      "           1       0.51      0.47      0.49       138\n",
      "           2       0.78      0.73      0.76       163\n",
      "\n",
      "    accuracy                           0.62       439\n",
      "   macro avg       0.62      0.62      0.61       439\n",
      "weighted avg       0.63      0.62      0.62       439\n",
      "\n"
     ]
    }
   ],
   "source": [
    "print(classification_report(np.argmax(y_test, axis=1),rf.predict(X_test)))"
   ]
  },
  {
   "cell_type": "markdown",
   "metadata": {},
   "source": [
    "LSTM"
   ]
  },
  {
   "cell_type": "code",
   "execution_count": 102,
   "metadata": {},
   "outputs": [],
   "source": [
    "model = tf.keras.Sequential()\n",
    "model.add(tf.keras.layers.LSTM(32, input_shape=(24, 1)))\n",
    "model.add(tf.keras.layers.Dense(3, activation='softmax'))\n",
    "model.compile(loss='categorical_crossentropy', optimizer='adam', metrics=['accuracy'])"
   ]
  },
  {
   "cell_type": "code",
   "execution_count": 103,
   "metadata": {},
   "outputs": [
    {
     "data": {
      "text/plain": [
       "(2658, 24)"
      ]
     },
     "execution_count": 103,
     "metadata": {},
     "output_type": "execute_result"
    }
   ],
   "source": [
    "X_train.shape"
   ]
  },
  {
   "cell_type": "code",
   "execution_count": 104,
   "metadata": {},
   "outputs": [
    {
     "name": "stdout",
     "output_type": "stream",
     "text": [
      "Epoch 1/100\n",
      "WARNING:tensorflow:AutoGraph could not transform <function Model.make_train_function.<locals>.train_function at 0x00000212D1ABC798> and will run it as-is.\n",
      "Please report this to the TensorFlow team. When filing the bug, set the verbosity to 10 (on Linux, `export AUTOGRAPH_VERBOSITY=10`) and attach the full output.\n",
      "Cause: 'arguments' object has no attribute 'posonlyargs'\n",
      "To silence this warning, decorate the function with @tf.autograph.experimental.do_not_convert\n"
     ]
    },
    {
     "name": "stderr",
     "output_type": "stream",
     "text": [
      "WARNING:tensorflow:AutoGraph could not transform <function Model.make_train_function.<locals>.train_function at 0x00000212D1ABC798> and will run it as-is.\n",
      "Please report this to the TensorFlow team. When filing the bug, set the verbosity to 10 (on Linux, `export AUTOGRAPH_VERBOSITY=10`) and attach the full output.\n",
      "Cause: 'arguments' object has no attribute 'posonlyargs'\n",
      "To silence this warning, decorate the function with @tf.autograph.experimental.do_not_convert\n"
     ]
    },
    {
     "name": "stdout",
     "output_type": "stream",
     "text": [
      "WARNING: AutoGraph could not transform <function Model.make_train_function.<locals>.train_function at 0x00000212D1ABC798> and will run it as-is.\n",
      "Please report this to the TensorFlow team. When filing the bug, set the verbosity to 10 (on Linux, `export AUTOGRAPH_VERBOSITY=10`) and attach the full output.\n",
      "Cause: 'arguments' object has no attribute 'posonlyargs'\n",
      "To silence this warning, decorate the function with @tf.autograph.experimental.do_not_convert\n",
      "51/54 [===========================>..] - ETA: 0s - loss: 1.1012 - accuracy: 0.3309WARNING:tensorflow:AutoGraph could not transform <function Model.make_test_function.<locals>.test_function at 0x00000212D8471048> and will run it as-is.\n",
      "Please report this to the TensorFlow team. When filing the bug, set the verbosity to 10 (on Linux, `export AUTOGRAPH_VERBOSITY=10`) and attach the full output.\n",
      "Cause: 'arguments' object has no attribute 'posonlyargs'\n",
      "To silence this warning, decorate the function with @tf.autograph.experimental.do_not_convert\n"
     ]
    },
    {
     "name": "stderr",
     "output_type": "stream",
     "text": [
      "WARNING:tensorflow:AutoGraph could not transform <function Model.make_test_function.<locals>.test_function at 0x00000212D8471048> and will run it as-is.\n",
      "Please report this to the TensorFlow team. When filing the bug, set the verbosity to 10 (on Linux, `export AUTOGRAPH_VERBOSITY=10`) and attach the full output.\n",
      "Cause: 'arguments' object has no attribute 'posonlyargs'\n",
      "To silence this warning, decorate the function with @tf.autograph.experimental.do_not_convert\n"
     ]
    },
    {
     "name": "stdout",
     "output_type": "stream",
     "text": [
      "WARNING: AutoGraph could not transform <function Model.make_test_function.<locals>.test_function at 0x00000212D8471048> and will run it as-is.\n",
      "Please report this to the TensorFlow team. When filing the bug, set the verbosity to 10 (on Linux, `export AUTOGRAPH_VERBOSITY=10`) and attach the full output.\n",
      "Cause: 'arguments' object has no attribute 'posonlyargs'\n",
      "To silence this warning, decorate the function with @tf.autograph.experimental.do_not_convert\n",
      "54/54 [==============================] - 2s 13ms/step - loss: 1.1009 - accuracy: 0.3317 - val_loss: 1.0941 - val_accuracy: 0.3435\n",
      "Epoch 2/100\n",
      "54/54 [==============================] - 0s 7ms/step - loss: 1.0925 - accuracy: 0.3788 - val_loss: 1.0805 - val_accuracy: 0.4966\n",
      "Epoch 3/100\n",
      "54/54 [==============================] - 0s 6ms/step - loss: 1.0787 - accuracy: 0.4363 - val_loss: 1.0493 - val_accuracy: 0.5136\n",
      "Epoch 4/100\n",
      "54/54 [==============================] - 0s 6ms/step - loss: 1.0571 - accuracy: 0.4515 - val_loss: 1.0259 - val_accuracy: 0.5136\n",
      "Epoch 5/100\n",
      "54/54 [==============================] - 0s 6ms/step - loss: 1.0266 - accuracy: 0.4817 - val_loss: 0.9757 - val_accuracy: 0.5238\n",
      "Epoch 6/100\n",
      "54/54 [==============================] - 0s 6ms/step - loss: 1.0132 - accuracy: 0.4872 - val_loss: 0.9883 - val_accuracy: 0.4864\n",
      "Epoch 7/100\n",
      "54/54 [==============================] - 0s 6ms/step - loss: 0.9957 - accuracy: 0.5000 - val_loss: 0.9428 - val_accuracy: 0.5442\n",
      "Epoch 8/100\n",
      "54/54 [==============================] - 0s 6ms/step - loss: 0.9792 - accuracy: 0.5474 - val_loss: 0.9253 - val_accuracy: 0.5748\n",
      "Epoch 9/100\n",
      "54/54 [==============================] - 0s 6ms/step - loss: 0.9595 - accuracy: 0.5422 - val_loss: 0.9143 - val_accuracy: 0.5748\n",
      "Epoch 10/100\n",
      "54/54 [==============================] - 0s 7ms/step - loss: 0.9736 - accuracy: 0.5208 - val_loss: 0.9161 - val_accuracy: 0.5306\n",
      "Epoch 11/100\n",
      "54/54 [==============================] - 0s 6ms/step - loss: 0.9666 - accuracy: 0.5206 - val_loss: 0.9243 - val_accuracy: 0.5646\n",
      "Epoch 12/100\n",
      "54/54 [==============================] - 0s 6ms/step - loss: 0.9455 - accuracy: 0.5400 - val_loss: 0.8976 - val_accuracy: 0.5748\n",
      "Epoch 13/100\n",
      "54/54 [==============================] - 0s 6ms/step - loss: 0.9440 - accuracy: 0.5375 - val_loss: 0.8933 - val_accuracy: 0.5476\n",
      "Epoch 14/100\n",
      "54/54 [==============================] - 0s 6ms/step - loss: 0.9384 - accuracy: 0.5377 - val_loss: 0.9200 - val_accuracy: 0.5204\n",
      "Epoch 15/100\n",
      "54/54 [==============================] - 0s 6ms/step - loss: 0.9364 - accuracy: 0.5435 - val_loss: 0.8779 - val_accuracy: 0.5782\n",
      "Epoch 16/100\n",
      "54/54 [==============================] - 0s 6ms/step - loss: 0.9165 - accuracy: 0.5556 - val_loss: 0.8802 - val_accuracy: 0.5748\n",
      "Epoch 17/100\n",
      "54/54 [==============================] - 0s 6ms/step - loss: 0.9314 - accuracy: 0.5433 - val_loss: 0.9223 - val_accuracy: 0.5068\n",
      "Epoch 18/100\n",
      "54/54 [==============================] - 0s 6ms/step - loss: 0.9417 - accuracy: 0.5295 - val_loss: 0.8653 - val_accuracy: 0.6088\n",
      "Epoch 19/100\n",
      "54/54 [==============================] - 0s 7ms/step - loss: 0.9227 - accuracy: 0.5631 - val_loss: 0.8926 - val_accuracy: 0.5578\n",
      "Epoch 20/100\n",
      "54/54 [==============================] - 0s 6ms/step - loss: 0.9330 - accuracy: 0.5381 - val_loss: 0.8678 - val_accuracy: 0.6088\n",
      "Epoch 21/100\n",
      "54/54 [==============================] - 0s 6ms/step - loss: 0.9413 - accuracy: 0.5543 - val_loss: 0.8612 - val_accuracy: 0.6327\n",
      "Epoch 22/100\n",
      "54/54 [==============================] - 0s 6ms/step - loss: 0.9134 - accuracy: 0.5563 - val_loss: 0.8611 - val_accuracy: 0.6190\n",
      "Epoch 23/100\n",
      "54/54 [==============================] - 0s 6ms/step - loss: 0.9023 - accuracy: 0.5587 - val_loss: 0.8602 - val_accuracy: 0.6054\n",
      "Epoch 24/100\n",
      "54/54 [==============================] - 0s 6ms/step - loss: 0.9090 - accuracy: 0.5544 - val_loss: 0.8650 - val_accuracy: 0.5850\n",
      "Epoch 25/100\n",
      "54/54 [==============================] - 0s 7ms/step - loss: 0.8991 - accuracy: 0.5731 - val_loss: 0.8981 - val_accuracy: 0.5884\n",
      "Epoch 26/100\n",
      "54/54 [==============================] - 0s 7ms/step - loss: 0.9283 - accuracy: 0.5498 - val_loss: 0.8404 - val_accuracy: 0.6122\n",
      "Epoch 27/100\n",
      "54/54 [==============================] - 0s 6ms/step - loss: 0.8877 - accuracy: 0.5760 - val_loss: 0.8295 - val_accuracy: 0.6054\n",
      "Epoch 28/100\n",
      "54/54 [==============================] - 0s 6ms/step - loss: 0.8643 - accuracy: 0.5870 - val_loss: 0.8539 - val_accuracy: 0.6122\n",
      "Epoch 29/100\n",
      "54/54 [==============================] - 0s 6ms/step - loss: 0.8710 - accuracy: 0.5929 - val_loss: 0.8038 - val_accuracy: 0.6565\n",
      "Epoch 30/100\n",
      "54/54 [==============================] - 0s 6ms/step - loss: 0.8496 - accuracy: 0.5926 - val_loss: 0.7827 - val_accuracy: 0.6327\n",
      "Epoch 31/100\n",
      "54/54 [==============================] - 0s 6ms/step - loss: 0.8493 - accuracy: 0.5808 - val_loss: 0.7870 - val_accuracy: 0.6497\n",
      "Epoch 32/100\n",
      "54/54 [==============================] - 0s 7ms/step - loss: 0.8463 - accuracy: 0.5909 - val_loss: 0.7863 - val_accuracy: 0.6599\n",
      "Epoch 33/100\n",
      "54/54 [==============================] - 0s 7ms/step - loss: 0.8169 - accuracy: 0.6136 - val_loss: 0.7842 - val_accuracy: 0.6259\n",
      "Epoch 34/100\n",
      "54/54 [==============================] - 0s 7ms/step - loss: 0.8341 - accuracy: 0.6004 - val_loss: 0.7492 - val_accuracy: 0.6939\n",
      "Epoch 35/100\n",
      "54/54 [==============================] - 0s 6ms/step - loss: 0.8374 - accuracy: 0.6098 - val_loss: 0.7580 - val_accuracy: 0.6973\n",
      "Epoch 36/100\n",
      "54/54 [==============================] - 0s 6ms/step - loss: 0.8147 - accuracy: 0.6294 - val_loss: 0.7433 - val_accuracy: 0.6769\n",
      "Epoch 37/100\n",
      "54/54 [==============================] - 0s 6ms/step - loss: 0.8015 - accuracy: 0.6213 - val_loss: 0.7454 - val_accuracy: 0.6769\n",
      "Epoch 38/100\n",
      "54/54 [==============================] - 0s 6ms/step - loss: 0.8088 - accuracy: 0.6251 - val_loss: 0.7575 - val_accuracy: 0.6769\n",
      "Epoch 39/100\n",
      "54/54 [==============================] - 0s 6ms/step - loss: 0.7972 - accuracy: 0.6304 - val_loss: 0.7342 - val_accuracy: 0.7177\n",
      "Epoch 40/100\n",
      "54/54 [==============================] - 0s 6ms/step - loss: 0.8128 - accuracy: 0.6276 - val_loss: 0.7258 - val_accuracy: 0.7007\n",
      "Epoch 41/100\n",
      "54/54 [==============================] - 0s 7ms/step - loss: 0.7843 - accuracy: 0.6427 - val_loss: 0.7145 - val_accuracy: 0.6837\n",
      "Epoch 42/100\n",
      "54/54 [==============================] - 0s 6ms/step - loss: 0.7623 - accuracy: 0.6483 - val_loss: 0.7573 - val_accuracy: 0.6701\n",
      "Epoch 43/100\n",
      "54/54 [==============================] - 0s 7ms/step - loss: 0.7945 - accuracy: 0.6557 - val_loss: 0.7154 - val_accuracy: 0.7177\n",
      "Epoch 44/100\n",
      "54/54 [==============================] - 0s 6ms/step - loss: 0.7750 - accuracy: 0.6391 - val_loss: 0.7340 - val_accuracy: 0.7007\n",
      "Epoch 45/100\n",
      "54/54 [==============================] - 0s 6ms/step - loss: 0.7789 - accuracy: 0.6528 - val_loss: 0.6887 - val_accuracy: 0.7109\n",
      "Epoch 46/100\n",
      "54/54 [==============================] - 0s 9ms/step - loss: 0.7522 - accuracy: 0.6429 - val_loss: 0.7072 - val_accuracy: 0.7381\n",
      "Epoch 47/100\n",
      "54/54 [==============================] - 0s 6ms/step - loss: 0.7478 - accuracy: 0.6661 - val_loss: 0.8109 - val_accuracy: 0.6327\n",
      "Epoch 48/100\n",
      "54/54 [==============================] - 0s 7ms/step - loss: 0.7694 - accuracy: 0.6452 - val_loss: 0.6711 - val_accuracy: 0.7109\n",
      "Epoch 49/100\n",
      "54/54 [==============================] - 0s 6ms/step - loss: 0.7267 - accuracy: 0.6628 - val_loss: 0.6943 - val_accuracy: 0.7143\n",
      "Epoch 50/100\n",
      "54/54 [==============================] - 0s 6ms/step - loss: 0.7317 - accuracy: 0.6566 - val_loss: 0.6802 - val_accuracy: 0.7381\n",
      "Epoch 51/100\n",
      "54/54 [==============================] - 0s 7ms/step - loss: 0.7260 - accuracy: 0.6802 - val_loss: 0.6630 - val_accuracy: 0.7177\n",
      "Epoch 52/100\n",
      "54/54 [==============================] - 0s 6ms/step - loss: 0.7145 - accuracy: 0.6790 - val_loss: 0.7227 - val_accuracy: 0.6769\n",
      "Epoch 53/100\n",
      "54/54 [==============================] - 0s 6ms/step - loss: 0.7241 - accuracy: 0.6899 - val_loss: 0.6884 - val_accuracy: 0.7041\n",
      "Epoch 54/100\n",
      "54/54 [==============================] - 0s 6ms/step - loss: 0.7177 - accuracy: 0.6811 - val_loss: 0.7585 - val_accuracy: 0.6327\n",
      "Epoch 55/100\n"
     ]
    },
    {
     "name": "stdout",
     "output_type": "stream",
     "text": [
      "54/54 [==============================] - 0s 6ms/step - loss: 0.7310 - accuracy: 0.6797 - val_loss: 0.6870 - val_accuracy: 0.7041\n",
      "Epoch 56/100\n",
      "54/54 [==============================] - 0s 6ms/step - loss: 0.7501 - accuracy: 0.6661 - val_loss: 0.6622 - val_accuracy: 0.7007\n",
      "Epoch 57/100\n",
      "54/54 [==============================] - 0s 6ms/step - loss: 0.6998 - accuracy: 0.6979 - val_loss: 0.6532 - val_accuracy: 0.7211\n",
      "Epoch 58/100\n",
      "54/54 [==============================] - 0s 6ms/step - loss: 0.6893 - accuracy: 0.6955 - val_loss: 0.6165 - val_accuracy: 0.7449\n",
      "Epoch 59/100\n",
      "54/54 [==============================] - 0s 6ms/step - loss: 0.6530 - accuracy: 0.7199 - val_loss: 0.6493 - val_accuracy: 0.7517\n",
      "Epoch 60/100\n",
      "54/54 [==============================] - 0s 6ms/step - loss: 0.7091 - accuracy: 0.6842 - val_loss: 0.6890 - val_accuracy: 0.7177\n",
      "Epoch 61/100\n",
      "54/54 [==============================] - 0s 6ms/step - loss: 0.6968 - accuracy: 0.6951 - val_loss: 0.6817 - val_accuracy: 0.6939\n",
      "Epoch 62/100\n",
      "54/54 [==============================] - 0s 7ms/step - loss: 0.6484 - accuracy: 0.7311 - val_loss: 0.6437 - val_accuracy: 0.7109\n",
      "Epoch 63/100\n",
      "54/54 [==============================] - 0s 6ms/step - loss: 0.6512 - accuracy: 0.7144 - val_loss: 0.6326 - val_accuracy: 0.7177\n",
      "Epoch 64/100\n",
      "54/54 [==============================] - 0s 6ms/step - loss: 0.6947 - accuracy: 0.6915 - val_loss: 0.6280 - val_accuracy: 0.7245\n",
      "Epoch 65/100\n",
      "54/54 [==============================] - 0s 7ms/step - loss: 0.6603 - accuracy: 0.7240 - val_loss: 0.7225 - val_accuracy: 0.6667\n",
      "Epoch 66/100\n",
      "54/54 [==============================] - 0s 6ms/step - loss: 0.6980 - accuracy: 0.6817 - val_loss: 0.6039 - val_accuracy: 0.7245\n",
      "Epoch 67/100\n",
      "54/54 [==============================] - 0s 6ms/step - loss: 0.6621 - accuracy: 0.7158 - val_loss: 0.6248 - val_accuracy: 0.7143\n",
      "Epoch 68/100\n",
      "54/54 [==============================] - 0s 7ms/step - loss: 0.6602 - accuracy: 0.6980 - val_loss: 0.6769 - val_accuracy: 0.7075\n",
      "Epoch 69/100\n",
      "54/54 [==============================] - 0s 6ms/step - loss: 0.6723 - accuracy: 0.7024 - val_loss: 0.6101 - val_accuracy: 0.7245\n",
      "Epoch 70/100\n",
      "54/54 [==============================] - 0s 7ms/step - loss: 0.6371 - accuracy: 0.7214 - val_loss: 0.6011 - val_accuracy: 0.7449\n",
      "Epoch 71/100\n",
      "54/54 [==============================] - 0s 6ms/step - loss: 0.6347 - accuracy: 0.7193 - val_loss: 0.6583 - val_accuracy: 0.7381\n",
      "Epoch 72/100\n",
      "54/54 [==============================] - 0s 6ms/step - loss: 0.6558 - accuracy: 0.7055 - val_loss: 0.5814 - val_accuracy: 0.7415\n",
      "Epoch 73/100\n",
      "54/54 [==============================] - 0s 7ms/step - loss: 0.6529 - accuracy: 0.7133 - val_loss: 0.5911 - val_accuracy: 0.7381\n",
      "Epoch 74/100\n",
      "54/54 [==============================] - 0s 6ms/step - loss: 0.6315 - accuracy: 0.7192 - val_loss: 0.6375 - val_accuracy: 0.7075\n",
      "Epoch 75/100\n",
      "54/54 [==============================] - 0s 7ms/step - loss: 0.6652 - accuracy: 0.7062 - val_loss: 0.6027 - val_accuracy: 0.7347\n",
      "Epoch 76/100\n",
      "54/54 [==============================] - 0s 7ms/step - loss: 0.6264 - accuracy: 0.7187 - val_loss: 0.5720 - val_accuracy: 0.7483\n",
      "Epoch 77/100\n",
      "54/54 [==============================] - 0s 6ms/step - loss: 0.6362 - accuracy: 0.7230 - val_loss: 0.6009 - val_accuracy: 0.7347\n",
      "Epoch 78/100\n",
      "54/54 [==============================] - 0s 7ms/step - loss: 0.6290 - accuracy: 0.7112 - val_loss: 0.6352 - val_accuracy: 0.7347\n",
      "Epoch 79/100\n",
      "54/54 [==============================] - 0s 6ms/step - loss: 0.6300 - accuracy: 0.7249 - val_loss: 0.5719 - val_accuracy: 0.7415\n",
      "Epoch 80/100\n",
      "54/54 [==============================] - 0s 6ms/step - loss: 0.6318 - accuracy: 0.7166 - val_loss: 0.5682 - val_accuracy: 0.7347\n",
      "Epoch 81/100\n",
      "54/54 [==============================] - 0s 6ms/step - loss: 0.5982 - accuracy: 0.7348 - val_loss: 0.5956 - val_accuracy: 0.7109\n",
      "Epoch 82/100\n",
      "54/54 [==============================] - 0s 6ms/step - loss: 0.6244 - accuracy: 0.7301 - val_loss: 0.5642 - val_accuracy: 0.7483\n",
      "Epoch 83/100\n",
      "54/54 [==============================] - 0s 6ms/step - loss: 0.5915 - accuracy: 0.7391 - val_loss: 0.5694 - val_accuracy: 0.7415\n",
      "Epoch 84/100\n",
      "54/54 [==============================] - 0s 6ms/step - loss: 0.6020 - accuracy: 0.7379 - val_loss: 0.6067 - val_accuracy: 0.6973\n",
      "Epoch 85/100\n",
      "54/54 [==============================] - 0s 6ms/step - loss: 0.5921 - accuracy: 0.7381 - val_loss: 0.5627 - val_accuracy: 0.7449\n",
      "Epoch 86/100\n",
      "54/54 [==============================] - 0s 6ms/step - loss: 0.5891 - accuracy: 0.7352 - val_loss: 0.8166 - val_accuracy: 0.6395\n",
      "Epoch 87/100\n",
      "54/54 [==============================] - 0s 6ms/step - loss: 0.6638 - accuracy: 0.7144 - val_loss: 0.5947 - val_accuracy: 0.7313\n",
      "Epoch 88/100\n",
      "54/54 [==============================] - 0s 6ms/step - loss: 0.6123 - accuracy: 0.7346 - val_loss: 0.5586 - val_accuracy: 0.7789\n",
      "Epoch 89/100\n",
      "54/54 [==============================] - 1s 9ms/step - loss: 0.5844 - accuracy: 0.7359 - val_loss: 0.6698 - val_accuracy: 0.7177\n",
      "Epoch 90/100\n",
      "54/54 [==============================] - 0s 6ms/step - loss: 0.6050 - accuracy: 0.7353 - val_loss: 0.5427 - val_accuracy: 0.7517\n",
      "Epoch 91/100\n",
      "54/54 [==============================] - 0s 7ms/step - loss: 0.6007 - accuracy: 0.7367 - val_loss: 0.5521 - val_accuracy: 0.7687\n",
      "Epoch 92/100\n",
      "54/54 [==============================] - 0s 6ms/step - loss: 0.6054 - accuracy: 0.7293 - val_loss: 0.5587 - val_accuracy: 0.7653\n",
      "Epoch 93/100\n",
      "54/54 [==============================] - 0s 6ms/step - loss: 0.5597 - accuracy: 0.7604 - val_loss: 0.5542 - val_accuracy: 0.7721\n",
      "Epoch 94/100\n",
      "54/54 [==============================] - 0s 6ms/step - loss: 0.6044 - accuracy: 0.7390 - val_loss: 0.5929 - val_accuracy: 0.7415\n",
      "Epoch 95/100\n",
      "54/54 [==============================] - 0s 6ms/step - loss: 0.5901 - accuracy: 0.7429 - val_loss: 0.6315 - val_accuracy: 0.7245\n",
      "Epoch 96/100\n",
      "54/54 [==============================] - 0s 6ms/step - loss: 0.5882 - accuracy: 0.7395 - val_loss: 0.5758 - val_accuracy: 0.7347\n",
      "Epoch 97/100\n",
      "54/54 [==============================] - 0s 7ms/step - loss: 0.6120 - accuracy: 0.7177 - val_loss: 0.5344 - val_accuracy: 0.7721\n",
      "Epoch 98/100\n",
      "54/54 [==============================] - 0s 6ms/step - loss: 0.5766 - accuracy: 0.7421 - val_loss: 0.5735 - val_accuracy: 0.7551\n",
      "Epoch 99/100\n",
      "54/54 [==============================] - 0s 6ms/step - loss: 0.5889 - accuracy: 0.7357 - val_loss: 0.5289 - val_accuracy: 0.7687\n",
      "Epoch 100/100\n",
      "54/54 [==============================] - 0s 6ms/step - loss: 0.5871 - accuracy: 0.7422 - val_loss: 0.5313 - val_accuracy: 0.7755\n"
     ]
    },
    {
     "data": {
      "text/plain": [
       "<tensorflow.python.keras.callbacks.History at 0x212d1e40e08>"
      ]
     },
     "execution_count": 104,
     "metadata": {},
     "output_type": "execute_result"
    }
   ],
   "source": [
    "model.fit(reshapeInput(X_train), y_train, \n",
    "          epochs=100, batch_size=50,\n",
    "          validation_data=(reshapeInput(X_val), y_val),\n",
    "         callbacks=tf.keras.callbacks.EarlyStopping(patience=20, restore_best_weights=True))"
   ]
  },
  {
   "cell_type": "code",
   "execution_count": 110,
   "metadata": {},
   "outputs": [
    {
     "name": "stderr",
     "output_type": "stream",
     "text": [
      "C:\\Users\\sabri\\Anaconda3\\lib\\site-packages\\tensorflow\\python\\keras\\engine\\sequential.py:450: UserWarning: `model.predict_classes()` is deprecated and will be removed after 2021-01-01. Please use instead:* `np.argmax(model.predict(x), axis=-1)`,   if your model does multi-class classification   (e.g. if it uses a `softmax` last-layer activation).* `(model.predict(x) > 0.5).astype(\"int32\")`,   if your model does binary classification   (e.g. if it uses a `sigmoid` last-layer activation).\n",
      "  warnings.warn('`model.predict_classes()` is deprecated and '\n"
     ]
    },
    {
     "data": {
      "text/plain": [
       "array([[125,   8,   5],\n",
       "       [ 49,  71,  18],\n",
       "       [ 15,   5, 143]], dtype=int64)"
      ]
     },
     "execution_count": 110,
     "metadata": {},
     "output_type": "execute_result"
    }
   ],
   "source": [
    "confusion_matrix(np.argmax(y_test, axis=1),model.predict_classes(reshapeInput(X_test)))"
   ]
  },
  {
   "cell_type": "code",
   "execution_count": 111,
   "metadata": {},
   "outputs": [
    {
     "name": "stdout",
     "output_type": "stream",
     "text": [
      "Overall accuracy of ABC Model: 0.7722095671981777\n"
     ]
    },
    {
     "name": "stderr",
     "output_type": "stream",
     "text": [
      "C:\\Users\\sabri\\Anaconda3\\lib\\site-packages\\tensorflow\\python\\keras\\engine\\sequential.py:450: UserWarning: `model.predict_classes()` is deprecated and will be removed after 2021-01-01. Please use instead:* `np.argmax(model.predict(x), axis=-1)`,   if your model does multi-class classification   (e.g. if it uses a `softmax` last-layer activation).* `(model.predict(x) > 0.5).astype(\"int32\")`,   if your model does binary classification   (e.g. if it uses a `sigmoid` last-layer activation).\n",
      "  warnings.warn('`model.predict_classes()` is deprecated and '\n"
     ]
    }
   ],
   "source": [
    "print(f\"Overall accuracy of ABC Model: {accuracy_score(np.argmax(y_test, axis=1),model.predict_classes(reshapeInput(X_test)))}\")"
   ]
  },
  {
   "cell_type": "markdown",
   "metadata": {},
   "source": [
    "model.save(\"../assets/models/ABC_discriminant\")"
   ]
  },
  {
   "cell_type": "markdown",
   "metadata": {},
   "source": [
    "<b> Final thoughts before wrapping up: <br/>\n",
    "    1. Given more time, I would have liked to investigate signal feature extraction methods insead of temporal sequence based predictions\n",
    "    2. Our effort to clean the polluted data has raised the overall accuracy of discriminating ABC from 42 % for unclean data to 77 % for clean data, though as can be clearly seen, we could increase the discrimination capability of model for A vs B further, as given B datapoints, we confound 49 of them with A meaning data A has some identical temporal patterns"
   ]
  }
 ],
 "metadata": {
  "kernelspec": {
   "display_name": "Python 3",
   "language": "python",
   "name": "python3"
  },
  "language_info": {
   "codemirror_mode": {
    "name": "ipython",
    "version": 3
   },
   "file_extension": ".py",
   "mimetype": "text/x-python",
   "name": "python",
   "nbconvert_exporter": "python",
   "pygments_lexer": "ipython3",
   "version": "3.7.4"
  }
 },
 "nbformat": 4,
 "nbformat_minor": 2
}
