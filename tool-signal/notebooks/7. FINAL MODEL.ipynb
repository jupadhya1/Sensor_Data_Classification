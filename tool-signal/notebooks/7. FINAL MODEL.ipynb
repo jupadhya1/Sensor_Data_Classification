{
 "cells": [
  {
   "cell_type": "code",
   "execution_count": 18,
   "metadata": {},
   "outputs": [],
   "source": [
    "import pandas as pd\n",
    "import numpy as np\n",
    "import matplotlib.pyplot as plt\n",
    "import tensorflow as tf\n",
    "from sklearn.metrics import classification_report, confusion_matrix, accuracy_score\n",
    "from sklearn.model_selection import train_test_split\n",
    "from imblearn.under_sampling import RandomUnderSampler"
   ]
  },
  {
   "cell_type": "code",
   "execution_count": 5,
   "metadata": {},
   "outputs": [],
   "source": [
    "A = pd.read_csv(\"../assets/data/cleaned/A.csv\", index_col=0)\n",
    "B = pd.read_csv(\"../assets/data/cleaned/B.csv\", index_col=0)\n",
    "C = pd.read_csv(\"../assets/data/cleaned/C.csv\", index_col=0)\n",
    "D = pd.read_csv(\"../assets/data/cleaned/D.csv\", index_col=0)\n",
    "E = pd.read_csv(\"../assets/data/cleaned/E.csv\", index_col=0)"
   ]
  },
  {
   "cell_type": "code",
   "execution_count": 62,
   "metadata": {},
   "outputs": [],
   "source": [
    "def train_test_val_split(X, y, test_size, val_size=0.4):\n",
    "    X_train, X_test, y_train, y_test = train_test_split(X, y, test_size=test_size)\n",
    "    X_test, X_val, y_test, y_val = train_test_split(X_test, y_test, test_size=val_size)\n",
    "    return X_train, X_test, X_val, y_train, y_test, y_val\n",
    "\n",
    "def reshapeInput(X):\n",
    "    X_ = []\n",
    "    for x in X:\n",
    "        X_.append(x.reshape(-1,1))\n",
    "    return np.array(X_)\n",
    "\n",
    "def trend(X, span = None):\n",
    "    '''\n",
    "    Return EWMA trend for signal samples\n",
    "    '''\n",
    "    if not span:\n",
    "        span = X.shape[1]\n",
    "    return pd.DataFrame(X).apply(lambda x: x.ewm(span=span).mean(), axis=1)"
   ]
  },
  {
   "cell_type": "code",
   "execution_count": 129,
   "metadata": {},
   "outputs": [],
   "source": [
    "X = pd.concat([A,B,C,D,E], axis=0)\n",
    "Y = [0]*A.__len__() + [1]*B.__len__() + [2]*C.__len__() + [3]*D.__len__() + [4]*E.__len__()"
   ]
  },
  {
   "cell_type": "code",
   "execution_count": 130,
   "metadata": {},
   "outputs": [],
   "source": [
    "X_train, X_test, X_val, y_train, y_test, y_val = train_test_val_split(X, tf.keras.utils.to_categorical(Y), test_size=0.2)"
   ]
  },
  {
   "cell_type": "code",
   "execution_count": 131,
   "metadata": {},
   "outputs": [
    {
     "data": {
      "text/plain": [
       "array([ 970.,  901., 1054.,  808., 1123.], dtype=float32)"
      ]
     },
     "execution_count": 131,
     "metadata": {},
     "output_type": "execute_result"
    }
   ],
   "source": [
    "np.sum(y_train, axis=0)"
   ]
  },
  {
   "cell_type": "code",
   "execution_count": 133,
   "metadata": {},
   "outputs": [
    {
     "name": "stderr",
     "output_type": "stream",
     "text": [
      "C:\\Users\\sabri\\Anaconda3\\lib\\site-packages\\sklearn\\utils\\validation.py:72: FutureWarning: Pass classes=[0 1 2 3 4] as keyword args. From version 1.0 (renaming of 0.25) passing these as positional arguments will result in an error\n",
      "  \"will result in an error\", FutureWarning)\n"
     ]
    }
   ],
   "source": [
    "X_train, y_train = RandomUnderSampler(random_state=42).fit_resample(X_train, y_train)"
   ]
  },
  {
   "cell_type": "code",
   "execution_count": 134,
   "metadata": {},
   "outputs": [
    {
     "data": {
      "text/plain": [
       "array([808, 808, 808, 808, 808])"
      ]
     },
     "execution_count": 134,
     "metadata": {},
     "output_type": "execute_result"
    }
   ],
   "source": [
    "np.sum(y_train, axis=0)"
   ]
  },
  {
   "cell_type": "code",
   "execution_count": 135,
   "metadata": {},
   "outputs": [],
   "source": [
    "model = tf.keras.Sequential()\n",
    "model.add(tf.keras.layers.Bidirectional(tf.keras.layers.LSTM(20), input_shape=(24, 1)))\n",
    "model.add(tf.keras.layers.Dense(12, activation='relu'))\n",
    "model.add(tf.keras.layers.Dense(5, activation='sigmoid'))\n",
    "model.compile(loss='categorical_crossentropy', optimizer='adam', metrics=['accuracy'])"
   ]
  },
  {
   "cell_type": "code",
   "execution_count": 153,
   "metadata": {},
   "outputs": [
    {
     "name": "stdout",
     "output_type": "stream",
     "text": [
      "Epoch 1/120\n",
      "202/202 [==============================] - 2s 8ms/step - loss: 0.6689 - accuracy: 0.6876 - val_loss: 0.6947 - val_accuracy: 0.6770\n",
      "Epoch 2/120\n",
      "202/202 [==============================] - 2s 8ms/step - loss: 0.6727 - accuracy: 0.6933 - val_loss: 0.7252 - val_accuracy: 0.6584\n",
      "Epoch 3/120\n",
      "202/202 [==============================] - 2s 8ms/step - loss: 0.6663 - accuracy: 0.7012 - val_loss: 0.6776 - val_accuracy: 0.6831\n",
      "Epoch 4/120\n",
      "202/202 [==============================] - 2s 8ms/step - loss: 0.6857 - accuracy: 0.7012 - val_loss: 0.6932 - val_accuracy: 0.6584\n",
      "Epoch 5/120\n",
      "202/202 [==============================] - 2s 8ms/step - loss: 0.6739 - accuracy: 0.6928 - val_loss: 0.7731 - val_accuracy: 0.6605\n",
      "Epoch 6/120\n",
      "202/202 [==============================] - 2s 8ms/step - loss: 0.6653 - accuracy: 0.7074 - val_loss: 0.7238 - val_accuracy: 0.6543\n",
      "Epoch 7/120\n",
      "202/202 [==============================] - 2s 8ms/step - loss: 0.6744 - accuracy: 0.6978 - val_loss: 0.6827 - val_accuracy: 0.6646\n",
      "Epoch 8/120\n",
      "202/202 [==============================] - 2s 8ms/step - loss: 0.6560 - accuracy: 0.7052 - val_loss: 0.7004 - val_accuracy: 0.6811\n",
      "Epoch 9/120\n",
      "202/202 [==============================] - 2s 8ms/step - loss: 0.6623 - accuracy: 0.7037 - val_loss: 0.6937 - val_accuracy: 0.6770\n",
      "Epoch 10/120\n",
      "202/202 [==============================] - 2s 10ms/step - loss: 0.6621 - accuracy: 0.6998 - val_loss: 0.7336 - val_accuracy: 0.6543\n",
      "Epoch 11/120\n",
      "202/202 [==============================] - 2s 8ms/step - loss: 0.6714 - accuracy: 0.6995 - val_loss: 0.7057 - val_accuracy: 0.6667\n",
      "Epoch 12/120\n",
      "202/202 [==============================] - 2s 8ms/step - loss: 0.6677 - accuracy: 0.7010 - val_loss: 0.7422 - val_accuracy: 0.6646\n",
      "Epoch 13/120\n",
      "202/202 [==============================] - 2s 8ms/step - loss: 0.6631 - accuracy: 0.7104 - val_loss: 0.7174 - val_accuracy: 0.6626\n",
      "Epoch 14/120\n",
      "202/202 [==============================] - 2s 8ms/step - loss: 0.6483 - accuracy: 0.7077 - val_loss: 0.6948 - val_accuracy: 0.6914\n",
      "Epoch 15/120\n",
      "202/202 [==============================] - 2s 8ms/step - loss: 0.6622 - accuracy: 0.7045 - val_loss: 0.6787 - val_accuracy: 0.6770\n",
      "Epoch 16/120\n",
      "202/202 [==============================] - 2s 8ms/step - loss: 0.6414 - accuracy: 0.7109 - val_loss: 0.7595 - val_accuracy: 0.6481\n",
      "Epoch 17/120\n",
      "202/202 [==============================] - 2s 8ms/step - loss: 0.6540 - accuracy: 0.7099 - val_loss: 0.6898 - val_accuracy: 0.6893\n",
      "Epoch 18/120\n",
      "202/202 [==============================] - 2s 9ms/step - loss: 0.6477 - accuracy: 0.7069 - val_loss: 0.9571 - val_accuracy: 0.6193\n",
      "Epoch 19/120\n",
      "202/202 [==============================] - 2s 9ms/step - loss: 0.6603 - accuracy: 0.7020 - val_loss: 0.6787 - val_accuracy: 0.6667\n",
      "Epoch 20/120\n",
      "202/202 [==============================] - 2s 8ms/step - loss: 0.6635 - accuracy: 0.7089 - val_loss: 0.7131 - val_accuracy: 0.6914\n",
      "Epoch 21/120\n",
      "202/202 [==============================] - 2s 9ms/step - loss: 0.6493 - accuracy: 0.7119 - val_loss: 0.7359 - val_accuracy: 0.6728\n",
      "Epoch 22/120\n",
      "202/202 [==============================] - 2s 9ms/step - loss: 0.6523 - accuracy: 0.7082 - val_loss: 0.7153 - val_accuracy: 0.6749\n",
      "Epoch 23/120\n",
      "202/202 [==============================] - 2s 9ms/step - loss: 0.6389 - accuracy: 0.7119 - val_loss: 0.6910 - val_accuracy: 0.6852\n",
      "Epoch 24/120\n",
      "202/202 [==============================] - 2s 9ms/step - loss: 0.6437 - accuracy: 0.7124 - val_loss: 0.7173 - val_accuracy: 0.6770\n",
      "Epoch 25/120\n",
      "202/202 [==============================] - 2s 9ms/step - loss: 0.6430 - accuracy: 0.7067 - val_loss: 0.7773 - val_accuracy: 0.6379\n",
      "Epoch 26/120\n",
      "202/202 [==============================] - 2s 9ms/step - loss: 0.6500 - accuracy: 0.7139 - val_loss: 0.6918 - val_accuracy: 0.6914\n",
      "Epoch 27/120\n",
      "202/202 [==============================] - 2s 9ms/step - loss: 0.6366 - accuracy: 0.7111 - val_loss: 0.7142 - val_accuracy: 0.6502\n",
      "Epoch 28/120\n",
      "202/202 [==============================] - 2s 9ms/step - loss: 0.6631 - accuracy: 0.7059 - val_loss: 0.7251 - val_accuracy: 0.6481\n",
      "Epoch 29/120\n",
      "202/202 [==============================] - 2s 9ms/step - loss: 0.6371 - accuracy: 0.7153 - val_loss: 0.7074 - val_accuracy: 0.6872\n",
      "Epoch 30/120\n",
      "202/202 [==============================] - 2s 9ms/step - loss: 0.6425 - accuracy: 0.7126 - val_loss: 0.7303 - val_accuracy: 0.6749\n",
      "Epoch 31/120\n",
      "202/202 [==============================] - 2s 9ms/step - loss: 0.6432 - accuracy: 0.7129 - val_loss: 0.7384 - val_accuracy: 0.6626\n",
      "Epoch 32/120\n",
      "202/202 [==============================] - 2s 9ms/step - loss: 0.6482 - accuracy: 0.7079 - val_loss: 0.7122 - val_accuracy: 0.6831\n",
      "Epoch 33/120\n",
      "202/202 [==============================] - 2s 9ms/step - loss: 0.6352 - accuracy: 0.7146 - val_loss: 0.7340 - val_accuracy: 0.6749\n",
      "Epoch 34/120\n",
      "202/202 [==============================] - 2s 9ms/step - loss: 0.6393 - accuracy: 0.7124 - val_loss: 0.7421 - val_accuracy: 0.6831\n",
      "Epoch 35/120\n",
      "202/202 [==============================] - 2s 9ms/step - loss: 0.6464 - accuracy: 0.7054 - val_loss: 0.6894 - val_accuracy: 0.6543\n",
      "Epoch 36/120\n",
      "202/202 [==============================] - 2s 9ms/step - loss: 0.6282 - accuracy: 0.7198 - val_loss: 0.6815 - val_accuracy: 0.6811\n",
      "Epoch 37/120\n",
      "202/202 [==============================] - 2s 9ms/step - loss: 0.6235 - accuracy: 0.7238 - val_loss: 0.6855 - val_accuracy: 0.6790\n",
      "Epoch 38/120\n",
      "202/202 [==============================] - 2s 9ms/step - loss: 0.6264 - accuracy: 0.7151 - val_loss: 0.7075 - val_accuracy: 0.6790\n",
      "Epoch 39/120\n",
      "202/202 [==============================] - 2s 9ms/step - loss: 0.6338 - accuracy: 0.7218 - val_loss: 0.6863 - val_accuracy: 0.6872\n",
      "Epoch 40/120\n",
      "202/202 [==============================] - 2s 9ms/step - loss: 0.6459 - accuracy: 0.7156 - val_loss: 0.7908 - val_accuracy: 0.6420\n",
      "Epoch 41/120\n",
      "202/202 [==============================] - 2s 9ms/step - loss: 0.6278 - accuracy: 0.7151 - val_loss: 0.6921 - val_accuracy: 0.6872\n",
      "Epoch 42/120\n",
      "202/202 [==============================] - 2s 9ms/step - loss: 0.6273 - accuracy: 0.7252 - val_loss: 0.6964 - val_accuracy: 0.6687\n",
      "Epoch 43/120\n",
      "202/202 [==============================] - 2s 9ms/step - loss: 0.6250 - accuracy: 0.7240 - val_loss: 0.7012 - val_accuracy: 0.6543\n",
      "Epoch 44/120\n",
      "202/202 [==============================] - 2s 9ms/step - loss: 0.6281 - accuracy: 0.7196 - val_loss: 0.7028 - val_accuracy: 0.6687\n",
      "Epoch 45/120\n",
      "202/202 [==============================] - 2s 10ms/step - loss: 0.6294 - accuracy: 0.7230 - val_loss: 0.7341 - val_accuracy: 0.6420\n",
      "Epoch 46/120\n",
      "202/202 [==============================] - 2s 9ms/step - loss: 0.6152 - accuracy: 0.7205 - val_loss: 0.6868 - val_accuracy: 0.6934\n",
      "Epoch 47/120\n",
      "202/202 [==============================] - 2s 9ms/step - loss: 0.6239 - accuracy: 0.7265 - val_loss: 0.7099 - val_accuracy: 0.6667\n",
      "Epoch 48/120\n",
      "202/202 [==============================] - 2s 9ms/step - loss: 0.6202 - accuracy: 0.7265 - val_loss: 0.7115 - val_accuracy: 0.6790\n",
      "Epoch 49/120\n",
      "202/202 [==============================] - 2s 9ms/step - loss: 0.6216 - accuracy: 0.7223 - val_loss: 0.6942 - val_accuracy: 0.6770\n",
      "Epoch 50/120\n",
      "202/202 [==============================] - 2s 9ms/step - loss: 0.6176 - accuracy: 0.7252 - val_loss: 0.7114 - val_accuracy: 0.6770\n",
      "Epoch 51/120\n",
      "202/202 [==============================] - 2s 9ms/step - loss: 0.6183 - accuracy: 0.7203 - val_loss: 0.7752 - val_accuracy: 0.6543\n",
      "Epoch 52/120\n",
      "202/202 [==============================] - 2s 9ms/step - loss: 0.6254 - accuracy: 0.7218 - val_loss: 0.9446 - val_accuracy: 0.6091\n",
      "Epoch 53/120\n",
      "202/202 [==============================] - 2s 9ms/step - loss: 0.6376 - accuracy: 0.7136 - val_loss: 0.7271 - val_accuracy: 0.6584\n"
     ]
    },
    {
     "data": {
      "text/plain": [
       "<tensorflow.python.keras.callbacks.History at 0x2d7fa1508c8>"
      ]
     },
     "execution_count": 153,
     "metadata": {},
     "output_type": "execute_result"
    }
   ],
   "source": [
    "model.fit(reshapeInput(X_train.values), y_train, \n",
    "          epochs=120, batch_size=20,\n",
    "          validation_data=(reshapeInput(X_val.values), y_val),\n",
    "         callbacks=tf.keras.callbacks.EarlyStopping(patience=50, restore_best_weights=True))"
   ]
  },
  {
   "cell_type": "code",
   "execution_count": 154,
   "metadata": {},
   "outputs": [
    {
     "name": "stdout",
     "output_type": "stream",
     "text": [
      "[[125  26   3   5   0]\n",
      " [ 33  58   9  15   4]\n",
      " [  4   9 140  21   0]\n",
      " [  1  23  10  77  19]\n",
      " [  1  10   1  22 112]]\n"
     ]
    },
    {
     "name": "stderr",
     "output_type": "stream",
     "text": [
      "C:\\Users\\sabri\\Anaconda3\\lib\\site-packages\\tensorflow\\python\\keras\\engine\\sequential.py:450: UserWarning: `model.predict_classes()` is deprecated and will be removed after 2021-01-01. Please use instead:* `np.argmax(model.predict(x), axis=-1)`,   if your model does multi-class classification   (e.g. if it uses a `softmax` last-layer activation).* `(model.predict(x) > 0.5).astype(\"int32\")`,   if your model does binary classification   (e.g. if it uses a `sigmoid` last-layer activation).\n",
      "  warnings.warn('`model.predict_classes()` is deprecated and '\n"
     ]
    }
   ],
   "source": [
    "print(confusion_matrix(np.argmax(y_test, axis=1),model.predict_classes(reshapeInput(X_test.values))))"
   ]
  },
  {
   "cell_type": "code",
   "execution_count": 155,
   "metadata": {},
   "outputs": [
    {
     "name": "stdout",
     "output_type": "stream",
     "text": [
      "0.7032967032967034\n"
     ]
    },
    {
     "name": "stderr",
     "output_type": "stream",
     "text": [
      "C:\\Users\\sabri\\Anaconda3\\lib\\site-packages\\tensorflow\\python\\keras\\engine\\sequential.py:450: UserWarning: `model.predict_classes()` is deprecated and will be removed after 2021-01-01. Please use instead:* `np.argmax(model.predict(x), axis=-1)`,   if your model does multi-class classification   (e.g. if it uses a `softmax` last-layer activation).* `(model.predict(x) > 0.5).astype(\"int32\")`,   if your model does binary classification   (e.g. if it uses a `sigmoid` last-layer activation).\n",
      "  warnings.warn('`model.predict_classes()` is deprecated and '\n"
     ]
    }
   ],
   "source": [
    "print(accuracy_score(np.argmax(y_test, axis=1),model.predict_classes(reshapeInput(X_test.values))))"
   ]
  },
  {
   "cell_type": "markdown",
   "metadata": {},
   "source": [
    "model.save(\"../assets/models/finalABCDE\")"
   ]
  },
  {
   "cell_type": "markdown",
   "metadata": {},
   "source": [
    "<b>\n",
    "1. So the final model has an accuracy of 70 %.<br/><br/>\n",
    "2. This was achieved primarily using data cleaning; Given more time, I would have liked to research dsp technique effectiveness instead of using a temporal modeling approach.<br/><br/>\n",
    "3. We just need to load the model, and since the model learnt on cleaner data, we dont need to perform any feature extraction pipelines and can process on the input signal.<br/><br/>\n",
    "4. We can use the autoencoders to first understand the signal pattern and bucket the signal; this can be used to re-inforce the model prediction.<br/><br/>\n",
    "5. Lastly this was a lot of fun😁. Thanks.<br/>\n",
    "</b>"
   ]
  }
 ],
 "metadata": {
  "kernelspec": {
   "display_name": "Python 3",
   "language": "python",
   "name": "python3"
  },
  "language_info": {
   "codemirror_mode": {
    "name": "ipython",
    "version": 3
   },
   "file_extension": ".py",
   "mimetype": "text/x-python",
   "name": "python",
   "nbconvert_exporter": "python",
   "pygments_lexer": "ipython3",
   "version": "3.7.4"
  }
 },
 "nbformat": 4,
 "nbformat_minor": 2
}
