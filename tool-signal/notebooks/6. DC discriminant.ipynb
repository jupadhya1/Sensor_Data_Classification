{
 "cells": [
  {
   "cell_type": "code",
   "execution_count": 1,
   "metadata": {},
   "outputs": [],
   "source": [
    "import pandas as pd\n",
    "import numpy as np\n",
    "import scipy.signal as sig\n",
    "import matplotlib.pyplot as plt\n",
    "from tensorflow.keras.utils import to_categorical\n",
    "import tensorflow as tf\n",
    "from sklearn.model_selection import train_test_split\n",
    "from sklearn.metrics import confusion_matrix, classification_report, accuracy_score\n",
    "from imblearn.under_sampling import RandomUnderSampler"
   ]
  },
  {
   "cell_type": "code",
   "execution_count": 2,
   "metadata": {},
   "outputs": [],
   "source": [
    "D = pd.read_csv(\"../assets/data/cleaned/D.csv\", index_col=0)\n",
    "E = pd.read_csv(\"../assets/data/cleaned/E.csv\", index_col=0)"
   ]
  },
  {
   "cell_type": "code",
   "execution_count": 3,
   "metadata": {},
   "outputs": [
    {
     "data": {
      "text/plain": [
       "((1025, 24), (1380, 24))"
      ]
     },
     "execution_count": 3,
     "metadata": {},
     "output_type": "execute_result"
    }
   ],
   "source": [
    "D.shape, E.shape"
   ]
  },
  {
   "cell_type": "code",
   "execution_count": 4,
   "metadata": {},
   "outputs": [],
   "source": [
    "def stat_summary(X, iqrl=0.25, iqrr=0.75):\n",
    "    '''\n",
    "    Return for each timestamp (hr) return min, max, 0.25 quantile, 0.75 quantile, mean, var\n",
    "    '''\n",
    "    return pd.DataFrame(np.array([np.min(X, axis=0), np.quantile(X, axis=0, q=iqrl), np.median(X, axis=0), \n",
    "          np.quantile(X, axis=0, q=iqrr), np.max(X, axis=0), np.mean(X, axis=0), np.var(X, axis=0), np.std(X, axis=0)]).transpose(),\n",
    "                        columns=[\"Min\", \"0.25Q\", \"Med\", \"0.75Q\", \"Max\", \"Mean\", \"Var\", \"StD\"])\n",
    "\n",
    "def trend(X, span = None):\n",
    "    '''\n",
    "    Return EWMA trend for signal samples\n",
    "    '''\n",
    "    if not span:\n",
    "        span = X.shape[1]\n",
    "    return pd.DataFrame(X).apply(lambda x: x.ewm(span=span).mean(), axis=1)\n",
    "\n",
    "def train_test_val_split(X, y=None, test_size=0.2,  val_size=0.4):\n",
    "    from sklearn.model_selection import train_test_split\n",
    "    if y.__len__() > 0:\n",
    "        X_train, X_test, y_train, y_test = train_test_split(X, y, test_size=test_size)\n",
    "        X_test, X_val, y_test, y_val = train_test_split(X_test, y_test, test_size=val_size)\n",
    "        return X_train, X_test, X_val, y_train, y_test, y_val\n",
    "    else:\n",
    "        X_train, X_test = train_test_split(X, test_size=test_size)\n",
    "        X_test, X_val = train_test_split(X_test, test_size=val_size)\n",
    "        return X_train, X_test, X_val\n",
    "\n",
    "def reshapeInput(X):\n",
    "    X_ = []\n",
    "    for x in X:\n",
    "        X_.append(x.reshape(-1,1))\n",
    "    return np.array(X_)\n",
    "\n",
    "def shapeInput(X):\n",
    "    X_ = []\n",
    "    for x in X:\n",
    "        X_.append(x.reshape(1,-1)[0])\n",
    "    return np.array(X_)\n",
    "\n",
    "\n",
    "def meanShift(X, window=None):\n",
    "    '''\n",
    "    Apply MA on convolved signal and compute rs means\n",
    "    '''\n",
    "    # At this point X must be EWMA convolved already\n",
    "    if not window:\n",
    "        window = X.shape[1] // 2\n",
    "    return pd.DataFrame(X).apply(lambda x: x.rolling(window=window).mean(), axis=1).iloc[:,window-1:]\n",
    "\n",
    "def gradient(X, shift=1, threshold=0):\n",
    "    '''\n",
    "    First order gradient of signal. Eq to diff for discrete signal\n",
    "    '''\n",
    "    return pd.DataFrame(X).apply(lambda x: x.diff(periods=shift), axis=1).iloc[:,threshold:]\n",
    "\n",
    "def bucketPeaks(peakIndex):\n",
    "    '''\n",
    "    Bucket into first half and second half\n",
    "    '''\n",
    "    return(sum(peakIndex <= 12), sum(peakIndex > 12)) "
   ]
  },
  {
   "cell_type": "code",
   "execution_count": 5,
   "metadata": {},
   "outputs": [],
   "source": [
    "X = np.row_stack((D,E))\n",
    "Y = [0]*(D.__len__()) + [1]*(E.__len__())"
   ]
  },
  {
   "cell_type": "code",
   "execution_count": 6,
   "metadata": {},
   "outputs": [],
   "source": [
    "X_train, X_test, X_val, y_train, y_test, y_val = train_test_val_split(X, to_categorical(Y), test_size=0.2)"
   ]
  },
  {
   "cell_type": "code",
   "execution_count": 7,
   "metadata": {},
   "outputs": [
    {
     "data": {
      "text/plain": [
       "array([ 826., 1098.], dtype=float32)"
      ]
     },
     "execution_count": 7,
     "metadata": {},
     "output_type": "execute_result"
    }
   ],
   "source": [
    "np.sum(y_train, axis=0)"
   ]
  },
  {
   "cell_type": "code",
   "execution_count": 8,
   "metadata": {},
   "outputs": [
    {
     "name": "stderr",
     "output_type": "stream",
     "text": [
      "C:\\Users\\sabri\\Anaconda3\\lib\\site-packages\\sklearn\\utils\\validation.py:72: FutureWarning: Pass classes=[0 1] as keyword args. From version 1.0 (renaming of 0.25) passing these as positional arguments will result in an error\n",
      "  \"will result in an error\", FutureWarning)\n"
     ]
    }
   ],
   "source": [
    "X_train, y_train = RandomUnderSampler().fit_resample(X_train, y_train)"
   ]
  },
  {
   "cell_type": "code",
   "execution_count": 9,
   "metadata": {},
   "outputs": [
    {
     "data": {
      "text/plain": [
       "array([826., 826.], dtype=float32)"
      ]
     },
     "execution_count": 9,
     "metadata": {},
     "output_type": "execute_result"
    }
   ],
   "source": [
    "np.sum(tf.keras.utils.to_categorical(y_train), axis=0)"
   ]
  },
  {
   "cell_type": "code",
   "execution_count": 10,
   "metadata": {},
   "outputs": [
    {
     "name": "stderr",
     "output_type": "stream",
     "text": [
      "C:\\Users\\sabri\\Anaconda3\\lib\\site-packages\\ipykernel_launcher.py:3: DataConversionWarning: A column-vector y was passed when a 1d array was expected. Please change the shape of y to (n_samples,), for example using ravel().\n",
      "  This is separate from the ipykernel package so we can avoid doing imports until\n"
     ]
    },
    {
     "data": {
      "text/plain": [
       "RandomForestClassifier(random_state=42)"
      ]
     },
     "execution_count": 10,
     "metadata": {},
     "output_type": "execute_result"
    }
   ],
   "source": [
    "from sklearn.ensemble import RandomForestClassifier\n",
    "rf = RandomForestClassifier(n_estimators=100, random_state=42)\n",
    "rf.fit(X_train, y_train)"
   ]
  },
  {
   "cell_type": "code",
   "execution_count": 11,
   "metadata": {},
   "outputs": [
    {
     "data": {
      "text/plain": [
       "array([[ 83,  37],\n",
       "       [ 57, 111]], dtype=int64)"
      ]
     },
     "execution_count": 11,
     "metadata": {},
     "output_type": "execute_result"
    }
   ],
   "source": [
    "confusion_matrix(np.argmax(y_test, axis=1),rf.predict(X_test))"
   ]
  },
  {
   "cell_type": "code",
   "execution_count": 12,
   "metadata": {},
   "outputs": [
    {
     "name": "stdout",
     "output_type": "stream",
     "text": [
      "              precision    recall  f1-score   support\n",
      "\n",
      "           0       0.59      0.69      0.64       120\n",
      "           1       0.75      0.66      0.70       168\n",
      "\n",
      "    accuracy                           0.67       288\n",
      "   macro avg       0.67      0.68      0.67       288\n",
      "weighted avg       0.68      0.67      0.68       288\n",
      "\n"
     ]
    }
   ],
   "source": [
    "print(classification_report(np.argmax(y_test, axis=1),rf.predict(X_test)))"
   ]
  },
  {
   "cell_type": "code",
   "execution_count": 13,
   "metadata": {},
   "outputs": [],
   "source": [
    "model = tf.keras.Sequential()\n",
    "model.add(tf.keras.layers.LSTM(32, input_shape=(24, 1)))\n",
    "model.add(tf.keras.layers.Dense(2, activation='softmax'))\n",
    "model.compile(loss='categorical_crossentropy', optimizer='adam', metrics=['accuracy'])"
   ]
  },
  {
   "cell_type": "code",
   "execution_count": 14,
   "metadata": {},
   "outputs": [
    {
     "data": {
      "text/plain": [
       "(1652, 24)"
      ]
     },
     "execution_count": 14,
     "metadata": {},
     "output_type": "execute_result"
    }
   ],
   "source": [
    "X_train.shape"
   ]
  },
  {
   "cell_type": "code",
   "execution_count": 15,
   "metadata": {},
   "outputs": [
    {
     "name": "stdout",
     "output_type": "stream",
     "text": [
      "Epoch 1/100\n",
      "WARNING:tensorflow:AutoGraph could not transform <function Model.make_train_function.<locals>.train_function at 0x000002080D56A3A8> and will run it as-is.\n",
      "Please report this to the TensorFlow team. When filing the bug, set the verbosity to 10 (on Linux, `export AUTOGRAPH_VERBOSITY=10`) and attach the full output.\n",
      "Cause: 'arguments' object has no attribute 'posonlyargs'\n",
      "To silence this warning, decorate the function with @tf.autograph.experimental.do_not_convert\n",
      "WARNING: AutoGraph could not transform <function Model.make_train_function.<locals>.train_function at 0x000002080D56A3A8> and will run it as-is.\n",
      "Please report this to the TensorFlow team. When filing the bug, set the verbosity to 10 (on Linux, `export AUTOGRAPH_VERBOSITY=10`) and attach the full output.\n",
      "Cause: 'arguments' object has no attribute 'posonlyargs'\n",
      "To silence this warning, decorate the function with @tf.autograph.experimental.do_not_convert\n",
      "31/34 [==========================>...] - ETA: 0s - loss: 0.6956 - accuracy: 0.4835WARNING:tensorflow:AutoGraph could not transform <function Model.make_test_function.<locals>.test_function at 0x00000207FC019828> and will run it as-is.\n",
      "Please report this to the TensorFlow team. When filing the bug, set the verbosity to 10 (on Linux, `export AUTOGRAPH_VERBOSITY=10`) and attach the full output.\n",
      "Cause: 'arguments' object has no attribute 'posonlyargs'\n",
      "To silence this warning, decorate the function with @tf.autograph.experimental.do_not_convert\n",
      "WARNING: AutoGraph could not transform <function Model.make_test_function.<locals>.test_function at 0x00000207FC019828> and will run it as-is.\n",
      "Please report this to the TensorFlow team. When filing the bug, set the verbosity to 10 (on Linux, `export AUTOGRAPH_VERBOSITY=10`) and attach the full output.\n",
      "Cause: 'arguments' object has no attribute 'posonlyargs'\n",
      "To silence this warning, decorate the function with @tf.autograph.experimental.do_not_convert\n",
      "34/34 [==============================] - 3s 25ms/step - loss: 0.6955 - accuracy: 0.4852 - val_loss: 0.6912 - val_accuracy: 0.6114\n",
      "Epoch 2/100\n",
      "34/34 [==============================] - 0s 6ms/step - loss: 0.6905 - accuracy: 0.5957 - val_loss: 0.7030 - val_accuracy: 0.4093\n",
      "Epoch 3/100\n",
      "34/34 [==============================] - 0s 6ms/step - loss: 0.6905 - accuracy: 0.5006 - val_loss: 0.6842 - val_accuracy: 0.6062\n",
      "Epoch 4/100\n",
      "34/34 [==============================] - 0s 6ms/step - loss: 0.6845 - accuracy: 0.6055 - val_loss: 0.6865 - val_accuracy: 0.5285\n",
      "Epoch 5/100\n",
      "34/34 [==============================] - 0s 6ms/step - loss: 0.6785 - accuracy: 0.6090 - val_loss: 0.6859 - val_accuracy: 0.5130\n",
      "Epoch 6/100\n",
      "34/34 [==============================] - 0s 6ms/step - loss: 0.6740 - accuracy: 0.6058 - val_loss: 0.6508 - val_accuracy: 0.6528\n",
      "Epoch 7/100\n",
      "34/34 [==============================] - 0s 6ms/step - loss: 0.6651 - accuracy: 0.6109 - val_loss: 0.6645 - val_accuracy: 0.5648\n",
      "Epoch 8/100\n",
      "34/34 [==============================] - 0s 6ms/step - loss: 0.6606 - accuracy: 0.6353 - val_loss: 0.6625 - val_accuracy: 0.5751\n",
      "Epoch 9/100\n",
      "34/34 [==============================] - 0s 6ms/step - loss: 0.6604 - accuracy: 0.6351 - val_loss: 0.6333 - val_accuracy: 0.6891\n",
      "Epoch 10/100\n",
      "34/34 [==============================] - 0s 6ms/step - loss: 0.6759 - accuracy: 0.5932 - val_loss: 0.6489 - val_accuracy: 0.6528\n",
      "Epoch 11/100\n",
      "34/34 [==============================] - 0s 6ms/step - loss: 0.6577 - accuracy: 0.6424 - val_loss: 0.6124 - val_accuracy: 0.7461\n",
      "Epoch 12/100\n",
      "34/34 [==============================] - 0s 6ms/step - loss: 0.6611 - accuracy: 0.6129 - val_loss: 0.6293 - val_accuracy: 0.6736\n",
      "Epoch 13/100\n",
      "34/34 [==============================] - 0s 6ms/step - loss: 0.6353 - accuracy: 0.6939 - val_loss: 0.6814 - val_accuracy: 0.5233\n",
      "Epoch 14/100\n",
      "34/34 [==============================] - 0s 6ms/step - loss: 0.6755 - accuracy: 0.5947 - val_loss: 0.6120 - val_accuracy: 0.7098\n",
      "Epoch 15/100\n",
      "34/34 [==============================] - 0s 6ms/step - loss: 0.6660 - accuracy: 0.6062 - val_loss: 0.6239 - val_accuracy: 0.7150\n",
      "Epoch 16/100\n",
      "34/34 [==============================] - 0s 7ms/step - loss: 0.6485 - accuracy: 0.6784 - val_loss: 0.6134 - val_accuracy: 0.6736\n",
      "Epoch 17/100\n",
      "34/34 [==============================] - 0s 7ms/step - loss: 0.6406 - accuracy: 0.6522 - val_loss: 0.6048 - val_accuracy: 0.6995\n",
      "Epoch 18/100\n",
      "34/34 [==============================] - 0s 7ms/step - loss: 0.6749 - accuracy: 0.5907 - val_loss: 0.6398 - val_accuracy: 0.6632\n",
      "Epoch 19/100\n",
      "34/34 [==============================] - 0s 6ms/step - loss: 0.6600 - accuracy: 0.6567 - val_loss: 0.6631 - val_accuracy: 0.5699\n",
      "Epoch 20/100\n",
      "34/34 [==============================] - 0s 6ms/step - loss: 0.6422 - accuracy: 0.6691 - val_loss: 0.6172 - val_accuracy: 0.6632\n",
      "Epoch 21/100\n",
      "34/34 [==============================] - 0s 7ms/step - loss: 0.6319 - accuracy: 0.6876 - val_loss: 0.5966 - val_accuracy: 0.7565\n",
      "Epoch 22/100\n",
      "34/34 [==============================] - 0s 6ms/step - loss: 0.6553 - accuracy: 0.6482 - val_loss: 0.5983 - val_accuracy: 0.7202\n",
      "Epoch 23/100\n",
      "34/34 [==============================] - 0s 6ms/step - loss: 0.6201 - accuracy: 0.7058 - val_loss: 0.6845 - val_accuracy: 0.5389\n",
      "Epoch 24/100\n",
      "34/34 [==============================] - 0s 6ms/step - loss: 0.6279 - accuracy: 0.6597 - val_loss: 0.6265 - val_accuracy: 0.6632\n",
      "Epoch 25/100\n",
      "34/34 [==============================] - 0s 6ms/step - loss: 0.6298 - accuracy: 0.6905 - val_loss: 0.5779 - val_accuracy: 0.7617\n",
      "Epoch 26/100\n",
      "34/34 [==============================] - 0s 6ms/step - loss: 0.6555 - accuracy: 0.6572 - val_loss: 0.6104 - val_accuracy: 0.6528\n",
      "Epoch 27/100\n",
      "34/34 [==============================] - 0s 6ms/step - loss: 0.6215 - accuracy: 0.6947 - val_loss: 0.5943 - val_accuracy: 0.6839\n",
      "Epoch 28/100\n",
      "34/34 [==============================] - 0s 8ms/step - loss: 0.6103 - accuracy: 0.7209 - val_loss: 0.5833 - val_accuracy: 0.6995\n",
      "Epoch 29/100\n",
      "34/34 [==============================] - 0s 8ms/step - loss: 0.6145 - accuracy: 0.7011 - val_loss: 0.5709 - val_accuracy: 0.7409\n",
      "Epoch 30/100\n",
      "34/34 [==============================] - 0s 7ms/step - loss: 0.6524 - accuracy: 0.6519 - val_loss: 0.6030 - val_accuracy: 0.6788\n",
      "Epoch 31/100\n",
      "34/34 [==============================] - 0s 7ms/step - loss: 0.6186 - accuracy: 0.7139 - val_loss: 0.5760 - val_accuracy: 0.7306\n",
      "Epoch 32/100\n",
      "34/34 [==============================] - 0s 9ms/step - loss: 0.6226 - accuracy: 0.7015 - val_loss: 0.5921 - val_accuracy: 0.6788\n",
      "Epoch 33/100\n",
      "34/34 [==============================] - 0s 7ms/step - loss: 0.6078 - accuracy: 0.7037 - val_loss: 0.5734 - val_accuracy: 0.7358\n",
      "Epoch 34/100\n",
      "34/34 [==============================] - 0s 7ms/step - loss: 0.6668 - accuracy: 0.6069 - val_loss: 0.6164 - val_accuracy: 0.6632\n",
      "Epoch 35/100\n",
      "34/34 [==============================] - 0s 7ms/step - loss: 0.6308 - accuracy: 0.6752 - val_loss: 0.6822 - val_accuracy: 0.5751\n",
      "Epoch 36/100\n",
      "34/34 [==============================] - 0s 6ms/step - loss: 0.6734 - accuracy: 0.5997 - val_loss: 0.6217 - val_accuracy: 0.6632\n",
      "Epoch 37/100\n",
      "34/34 [==============================] - 0s 8ms/step - loss: 0.6270 - accuracy: 0.6756 - val_loss: 0.5915 - val_accuracy: 0.6839\n",
      "Epoch 38/100\n",
      "34/34 [==============================] - 0s 8ms/step - loss: 0.6399 - accuracy: 0.6790 - val_loss: 0.5856 - val_accuracy: 0.7150\n",
      "Epoch 39/100\n",
      "34/34 [==============================] - 0s 8ms/step - loss: 0.6120 - accuracy: 0.6977 - val_loss: 0.5917 - val_accuracy: 0.6788\n",
      "Epoch 40/100\n",
      "34/34 [==============================] - 0s 8ms/step - loss: 0.6151 - accuracy: 0.6880 - val_loss: 0.5760 - val_accuracy: 0.7202\n",
      "Epoch 41/100\n",
      "34/34 [==============================] - 0s 8ms/step - loss: 0.6150 - accuracy: 0.6957 - val_loss: 0.5673 - val_accuracy: 0.7461\n",
      "Epoch 42/100\n",
      "34/34 [==============================] - 0s 7ms/step - loss: 0.6192 - accuracy: 0.6961 - val_loss: 0.5680 - val_accuracy: 0.7202\n",
      "Epoch 43/100\n",
      "34/34 [==============================] - 0s 6ms/step - loss: 0.6152 - accuracy: 0.6920 - val_loss: 0.5948 - val_accuracy: 0.6736\n",
      "Epoch 44/100\n",
      "34/34 [==============================] - 0s 6ms/step - loss: 0.6151 - accuracy: 0.6831 - val_loss: 0.5671 - val_accuracy: 0.7461\n",
      "Epoch 45/100\n"
     ]
    },
    {
     "name": "stdout",
     "output_type": "stream",
     "text": [
      "34/34 [==============================] - 0s 6ms/step - loss: 0.6101 - accuracy: 0.7044 - val_loss: 0.6262 - val_accuracy: 0.6269\n",
      "Epoch 46/100\n",
      "34/34 [==============================] - 0s 6ms/step - loss: 0.6166 - accuracy: 0.6802 - val_loss: 0.5913 - val_accuracy: 0.6995\n",
      "Epoch 47/100\n",
      "34/34 [==============================] - 0s 6ms/step - loss: 0.6003 - accuracy: 0.6992 - val_loss: 0.5594 - val_accuracy: 0.7409\n",
      "Epoch 48/100\n",
      "34/34 [==============================] - 0s 7ms/step - loss: 0.6024 - accuracy: 0.6904 - val_loss: 0.5663 - val_accuracy: 0.7254\n",
      "Epoch 49/100\n",
      "34/34 [==============================] - 0s 7ms/step - loss: 0.6201 - accuracy: 0.6858 - val_loss: 0.5628 - val_accuracy: 0.7409\n",
      "Epoch 50/100\n",
      "34/34 [==============================] - 0s 8ms/step - loss: 0.6169 - accuracy: 0.6923 - val_loss: 0.5658 - val_accuracy: 0.6943\n",
      "Epoch 51/100\n",
      "34/34 [==============================] - 0s 7ms/step - loss: 0.6013 - accuracy: 0.6978 - val_loss: 0.5871 - val_accuracy: 0.6995\n",
      "Epoch 52/100\n",
      "34/34 [==============================] - 0s 6ms/step - loss: 0.6032 - accuracy: 0.7064 - val_loss: 0.5497 - val_accuracy: 0.7513\n",
      "Epoch 53/100\n",
      "34/34 [==============================] - 0s 6ms/step - loss: 0.6022 - accuracy: 0.6982 - val_loss: 0.5836 - val_accuracy: 0.6943\n",
      "Epoch 54/100\n",
      "34/34 [==============================] - 0s 7ms/step - loss: 0.6071 - accuracy: 0.7043 - val_loss: 0.5524 - val_accuracy: 0.7617\n",
      "Epoch 55/100\n",
      "34/34 [==============================] - 0s 8ms/step - loss: 0.6017 - accuracy: 0.6943 - val_loss: 0.5453 - val_accuracy: 0.7461\n",
      "Epoch 56/100\n",
      "34/34 [==============================] - 0s 8ms/step - loss: 0.6061 - accuracy: 0.6863 - val_loss: 0.5651 - val_accuracy: 0.7150\n",
      "Epoch 57/100\n",
      "34/34 [==============================] - 0s 8ms/step - loss: 0.6227 - accuracy: 0.6818 - val_loss: 0.5693 - val_accuracy: 0.7047\n",
      "Epoch 58/100\n",
      "34/34 [==============================] - 0s 7ms/step - loss: 0.5918 - accuracy: 0.7022 - val_loss: 0.5641 - val_accuracy: 0.7047\n",
      "Epoch 59/100\n",
      "34/34 [==============================] - 0s 7ms/step - loss: 0.5931 - accuracy: 0.7102 - val_loss: 0.5593 - val_accuracy: 0.7358\n",
      "Epoch 60/100\n",
      "34/34 [==============================] - 0s 6ms/step - loss: 0.5967 - accuracy: 0.6835 - val_loss: 0.5455 - val_accuracy: 0.7409\n",
      "Epoch 61/100\n",
      "34/34 [==============================] - 0s 6ms/step - loss: 0.5890 - accuracy: 0.7076 - val_loss: 0.6188 - val_accuracy: 0.6580\n",
      "Epoch 62/100\n",
      "34/34 [==============================] - 0s 7ms/step - loss: 0.6127 - accuracy: 0.6781 - val_loss: 0.5889 - val_accuracy: 0.6839\n",
      "Epoch 63/100\n",
      "34/34 [==============================] - 0s 6ms/step - loss: 0.5977 - accuracy: 0.7113 - val_loss: 0.5642 - val_accuracy: 0.7047\n",
      "Epoch 64/100\n",
      "34/34 [==============================] - 0s 6ms/step - loss: 0.5869 - accuracy: 0.7064 - val_loss: 0.5466 - val_accuracy: 0.7306\n",
      "Epoch 65/100\n",
      "34/34 [==============================] - 0s 6ms/step - loss: 0.5884 - accuracy: 0.6822 - val_loss: 0.5745 - val_accuracy: 0.7047\n",
      "Epoch 66/100\n",
      "34/34 [==============================] - 0s 8ms/step - loss: 0.5777 - accuracy: 0.7226 - val_loss: 0.5737 - val_accuracy: 0.6684\n",
      "Epoch 67/100\n",
      "34/34 [==============================] - 0s 7ms/step - loss: 0.5908 - accuracy: 0.7026 - val_loss: 0.5740 - val_accuracy: 0.7098\n",
      "Epoch 68/100\n",
      "34/34 [==============================] - 0s 7ms/step - loss: 0.6108 - accuracy: 0.6763 - val_loss: 0.5674 - val_accuracy: 0.7098\n",
      "Epoch 69/100\n",
      "34/34 [==============================] - 0s 7ms/step - loss: 0.5846 - accuracy: 0.6951 - val_loss: 0.5481 - val_accuracy: 0.7202\n",
      "Epoch 70/100\n",
      "34/34 [==============================] - 0s 7ms/step - loss: 0.5904 - accuracy: 0.7084 - val_loss: 0.5420 - val_accuracy: 0.7306\n",
      "Epoch 71/100\n",
      "34/34 [==============================] - 0s 8ms/step - loss: 0.5888 - accuracy: 0.6985 - val_loss: 0.5342 - val_accuracy: 0.7409\n",
      "Epoch 72/100\n",
      "34/34 [==============================] - 0s 7ms/step - loss: 0.5983 - accuracy: 0.7035 - val_loss: 0.5680 - val_accuracy: 0.6891\n",
      "Epoch 73/100\n",
      "34/34 [==============================] - 0s 6ms/step - loss: 0.5950 - accuracy: 0.6972 - val_loss: 0.5590 - val_accuracy: 0.6995\n",
      "Epoch 74/100\n",
      "34/34 [==============================] - 0s 7ms/step - loss: 0.5816 - accuracy: 0.7023 - val_loss: 0.5552 - val_accuracy: 0.7047\n",
      "Epoch 75/100\n",
      "34/34 [==============================] - 0s 7ms/step - loss: 0.5892 - accuracy: 0.6970 - val_loss: 0.5453 - val_accuracy: 0.7098\n",
      "Epoch 76/100\n",
      "34/34 [==============================] - 0s 6ms/step - loss: 0.5892 - accuracy: 0.7044 - val_loss: 0.6078 - val_accuracy: 0.6632\n",
      "Epoch 77/100\n",
      "34/34 [==============================] - 0s 7ms/step - loss: 0.6162 - accuracy: 0.6777 - val_loss: 0.5515 - val_accuracy: 0.7668\n",
      "Epoch 78/100\n",
      "34/34 [==============================] - 0s 6ms/step - loss: 0.6015 - accuracy: 0.6880 - val_loss: 0.5536 - val_accuracy: 0.7150\n",
      "Epoch 79/100\n",
      "34/34 [==============================] - 0s 7ms/step - loss: 0.5805 - accuracy: 0.7047 - val_loss: 0.5558 - val_accuracy: 0.7254\n",
      "Epoch 80/100\n",
      "34/34 [==============================] - 0s 9ms/step - loss: 0.5726 - accuracy: 0.7031 - val_loss: 0.5303 - val_accuracy: 0.7565\n",
      "Epoch 81/100\n",
      "34/34 [==============================] - 0s 8ms/step - loss: 0.5881 - accuracy: 0.7118 - val_loss: 0.5550 - val_accuracy: 0.7047\n",
      "Epoch 82/100\n",
      "34/34 [==============================] - 0s 7ms/step - loss: 0.5947 - accuracy: 0.6906 - val_loss: 0.5308 - val_accuracy: 0.7306\n",
      "Epoch 83/100\n",
      "34/34 [==============================] - 0s 6ms/step - loss: 0.5871 - accuracy: 0.7013 - val_loss: 0.5481 - val_accuracy: 0.7098\n",
      "Epoch 84/100\n",
      "34/34 [==============================] - 0s 6ms/step - loss: 0.5724 - accuracy: 0.7174 - val_loss: 0.5271 - val_accuracy: 0.7409\n",
      "Epoch 85/100\n",
      "34/34 [==============================] - 0s 8ms/step - loss: 0.5566 - accuracy: 0.7205 - val_loss: 0.5333 - val_accuracy: 0.7461\n",
      "Epoch 86/100\n",
      "34/34 [==============================] - 0s 7ms/step - loss: 0.6019 - accuracy: 0.7046 - val_loss: 0.5574 - val_accuracy: 0.6943\n",
      "Epoch 87/100\n",
      "34/34 [==============================] - 0s 7ms/step - loss: 0.5728 - accuracy: 0.7012 - val_loss: 0.5325 - val_accuracy: 0.7098\n",
      "Epoch 88/100\n",
      "34/34 [==============================] - 0s 7ms/step - loss: 0.5635 - accuracy: 0.7259 - val_loss: 0.5554 - val_accuracy: 0.6995\n",
      "Epoch 89/100\n",
      "34/34 [==============================] - 0s 7ms/step - loss: 0.5645 - accuracy: 0.7209 - val_loss: 0.5342 - val_accuracy: 0.7461\n",
      "Epoch 90/100\n",
      "34/34 [==============================] - 0s 7ms/step - loss: 0.5860 - accuracy: 0.7011 - val_loss: 0.5282 - val_accuracy: 0.7254\n",
      "Epoch 91/100\n",
      "34/34 [==============================] - 0s 9ms/step - loss: 0.5705 - accuracy: 0.7086 - val_loss: 0.5309 - val_accuracy: 0.7254\n",
      "Epoch 92/100\n",
      "34/34 [==============================] - 0s 8ms/step - loss: 0.5697 - accuracy: 0.7043 - val_loss: 0.5446 - val_accuracy: 0.7202\n",
      "Epoch 93/100\n",
      "34/34 [==============================] - 0s 8ms/step - loss: 0.5728 - accuracy: 0.7023 - val_loss: 0.5169 - val_accuracy: 0.7409\n",
      "Epoch 94/100\n",
      "34/34 [==============================] - 0s 8ms/step - loss: 0.5610 - accuracy: 0.7023 - val_loss: 0.5801 - val_accuracy: 0.6839\n",
      "Epoch 95/100\n",
      "34/34 [==============================] - 0s 7ms/step - loss: 0.5691 - accuracy: 0.7082 - val_loss: 0.5163 - val_accuracy: 0.7513\n",
      "Epoch 96/100\n",
      "34/34 [==============================] - 0s 7ms/step - loss: 0.5627 - accuracy: 0.7186 - val_loss: 0.5185 - val_accuracy: 0.7306\n",
      "Epoch 97/100\n",
      "34/34 [==============================] - 0s 7ms/step - loss: 0.5791 - accuracy: 0.7008 - val_loss: 0.5965 - val_accuracy: 0.6788\n",
      "Epoch 98/100\n",
      "34/34 [==============================] - 0s 7ms/step - loss: 0.5679 - accuracy: 0.7159 - val_loss: 0.5127 - val_accuracy: 0.7409\n",
      "Epoch 99/100\n",
      "34/34 [==============================] - 0s 7ms/step - loss: 0.5446 - accuracy: 0.7336 - val_loss: 0.5449 - val_accuracy: 0.6995\n",
      "Epoch 100/100\n",
      "34/34 [==============================] - 0s 8ms/step - loss: 0.5528 - accuracy: 0.7118 - val_loss: 0.5245 - val_accuracy: 0.7358\n"
     ]
    },
    {
     "data": {
      "text/plain": [
       "<tensorflow.python.keras.callbacks.History at 0x2080cf21308>"
      ]
     },
     "execution_count": 15,
     "metadata": {},
     "output_type": "execute_result"
    }
   ],
   "source": [
    "model.fit(reshapeInput(X_train), tf.keras.utils.to_categorical(y_train), \n",
    "          epochs=100, batch_size=50,\n",
    "          validation_data=(reshapeInput(X_val), y_val),\n",
    "         callbacks=tf.keras.callbacks.EarlyStopping(patience=20, restore_best_weights=True))"
   ]
  },
  {
   "cell_type": "code",
   "execution_count": 16,
   "metadata": {},
   "outputs": [
    {
     "name": "stdout",
     "output_type": "stream",
     "text": [
      "WARNING:tensorflow:AutoGraph could not transform <function Model.make_predict_function.<locals>.predict_function at 0x000002080D26FDC8> and will run it as-is.\n",
      "Please report this to the TensorFlow team. When filing the bug, set the verbosity to 10 (on Linux, `export AUTOGRAPH_VERBOSITY=10`) and attach the full output.\n",
      "Cause: 'arguments' object has no attribute 'posonlyargs'\n",
      "To silence this warning, decorate the function with @tf.autograph.experimental.do_not_convert\n",
      "WARNING: AutoGraph could not transform <function Model.make_predict_function.<locals>.predict_function at 0x000002080D26FDC8> and will run it as-is.\n",
      "Please report this to the TensorFlow team. When filing the bug, set the verbosity to 10 (on Linux, `export AUTOGRAPH_VERBOSITY=10`) and attach the full output.\n",
      "Cause: 'arguments' object has no attribute 'posonlyargs'\n",
      "To silence this warning, decorate the function with @tf.autograph.experimental.do_not_convert\n"
     ]
    },
    {
     "name": "stderr",
     "output_type": "stream",
     "text": [
      "C:\\Users\\sabri\\Anaconda3\\lib\\site-packages\\tensorflow\\python\\keras\\engine\\sequential.py:450: UserWarning: `model.predict_classes()` is deprecated and will be removed after 2021-01-01. Please use instead:* `np.argmax(model.predict(x), axis=-1)`,   if your model does multi-class classification   (e.g. if it uses a `softmax` last-layer activation).* `(model.predict(x) > 0.5).astype(\"int32\")`,   if your model does binary classification   (e.g. if it uses a `sigmoid` last-layer activation).\n",
      "  warnings.warn('`model.predict_classes()` is deprecated and '\n"
     ]
    },
    {
     "data": {
      "text/plain": [
       "array([[ 72,  48],\n",
       "       [ 19, 149]], dtype=int64)"
      ]
     },
     "execution_count": 16,
     "metadata": {},
     "output_type": "execute_result"
    }
   ],
   "source": [
    "confusion_matrix(np.argmax(y_test, axis=1),model.predict_classes(reshapeInput(X_test)))"
   ]
  },
  {
   "cell_type": "code",
   "execution_count": 17,
   "metadata": {},
   "outputs": [
    {
     "name": "stdout",
     "output_type": "stream",
     "text": [
      "Overall accuracy of ABC Model: 0.7673611111111112\n"
     ]
    },
    {
     "name": "stderr",
     "output_type": "stream",
     "text": [
      "C:\\Users\\sabri\\Anaconda3\\lib\\site-packages\\tensorflow\\python\\keras\\engine\\sequential.py:450: UserWarning: `model.predict_classes()` is deprecated and will be removed after 2021-01-01. Please use instead:* `np.argmax(model.predict(x), axis=-1)`,   if your model does multi-class classification   (e.g. if it uses a `softmax` last-layer activation).* `(model.predict(x) > 0.5).astype(\"int32\")`,   if your model does binary classification   (e.g. if it uses a `sigmoid` last-layer activation).\n",
      "  warnings.warn('`model.predict_classes()` is deprecated and '\n"
     ]
    }
   ],
   "source": [
    "print(f\"Overall accuracy of ABC Model: {accuracy_score(np.argmax(y_test, axis=1),model.predict_classes(reshapeInput(X_test)))}\")"
   ]
  },
  {
   "cell_type": "markdown",
   "metadata": {},
   "source": [
    "Clearly, we can filter the data better but this should suffice for now"
   ]
  }
 ],
 "metadata": {
  "kernelspec": {
   "display_name": "Python 3",
   "language": "python",
   "name": "python3"
  },
  "language_info": {
   "codemirror_mode": {
    "name": "ipython",
    "version": 3
   },
   "file_extension": ".py",
   "mimetype": "text/x-python",
   "name": "python",
   "nbconvert_exporter": "python",
   "pygments_lexer": "ipython3",
   "version": "3.7.4"
  }
 },
 "nbformat": 4,
 "nbformat_minor": 2
}
